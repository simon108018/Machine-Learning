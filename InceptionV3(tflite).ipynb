{
  "nbformat": 4,
  "nbformat_minor": 0,
  "metadata": {
    "kernelspec": {
      "display_name": "Python 3",
      "language": "python",
      "name": "python3"
    },
    "language_info": {
      "codemirror_mode": {
        "name": "ipython",
        "version": 3
      },
      "file_extension": ".py",
      "mimetype": "text/x-python",
      "name": "python",
      "nbconvert_exporter": "python",
      "pygments_lexer": "ipython3",
      "version": "3.7.6"
    },
    "colab": {
      "name": "InceptionV3(tflite).ipynb",
      "provenance": [],
      "collapsed_sections": [],
      "include_colab_link": true
    },
    "accelerator": "GPU"
  },
  "cells": [
    {
      "cell_type": "markdown",
      "metadata": {
        "id": "view-in-github",
        "colab_type": "text"
      },
      "source": [
        "<a href=\"https://colab.research.google.com/github/simon108018/Machine-Learning/blob/master/InceptionV3(tflite).ipynb\" target=\"_parent\"><img src=\"https://colab.research.google.com/assets/colab-badge.svg\" alt=\"Open In Colab\"/></a>"
      ]
    },
    {
      "cell_type": "code",
      "metadata": {
        "id": "mu6gSd0csPVN",
        "colab_type": "code",
        "colab": {
          "base_uri": "https://localhost:8080/",
          "height": 122
        },
        "outputId": "404589c4-b2a2-4157-959d-712b8996cd19"
      },
      "source": [
        "from google.colab import drive\n",
        "drive.mount('/content/drive')"
      ],
      "execution_count": null,
      "outputs": [
        {
          "output_type": "stream",
          "text": [
            "Go to this URL in a browser: https://accounts.google.com/o/oauth2/auth?client_id=947318989803-6bn6qk8qdgf4n4g3pfee6491hc0brc4i.apps.googleusercontent.com&redirect_uri=urn%3aietf%3awg%3aoauth%3a2.0%3aoob&scope=email%20https%3a%2f%2fwww.googleapis.com%2fauth%2fdocs.test%20https%3a%2f%2fwww.googleapis.com%2fauth%2fdrive%20https%3a%2f%2fwww.googleapis.com%2fauth%2fdrive.photos.readonly%20https%3a%2f%2fwww.googleapis.com%2fauth%2fpeopleapi.readonly&response_type=code\n",
            "\n",
            "Enter your authorization code:\n",
            "··········\n",
            "Mounted at /content/drive\n"
          ],
          "name": "stdout"
        }
      ]
    },
    {
      "cell_type": "code",
      "metadata": {
        "id": "tPHhlKxDlD2s",
        "colab_type": "code",
        "colab": {}
      },
      "source": [
        "import os\n",
        "import tensorflow as tf\n",
        "import numpy as np\n",
        "import matplotlib.pyplot as plt\n",
        "from tensorflow import keras\n",
        "from tensorflow.keras import layers, initializers\n",
        "from tensorflow.keras.utils import plot_model\n",
        "from IPython.display import Image\n",
        "import tensorflow_datasets as tfds\n",
        "import logging\n",
        "logging.getLogger(\"tensorflow\").setLevel(logging.DEBUG)\n",
        "assert float(tf.__version__[:3]) >= 2.3\n",
        "\n",
        "#tfds.list_builders()"
      ],
      "execution_count": null,
      "outputs": []
    },
    {
      "cell_type": "code",
      "metadata": {
        "id": "esydkYkUpy7Z",
        "colab_type": "code",
        "colab": {}
      },
      "source": [
        "# 讀取model\n",
        "model_dir = '/content/drive/My Drive/Colab Notebooks/cifar10/models'\n",
        "model = tf.keras.models.load_model(model_dir + \"/Best-model-InceptionV3-L2.h5\")"
      ],
      "execution_count": null,
      "outputs": []
    },
    {
      "cell_type": "code",
      "metadata": {
        "id": "5X2BK1xHlD2y",
        "colab_type": "code",
        "colab": {}
      },
      "source": [
        "# 資料處理\n",
        "test_data, info = tfds.load(\"cifar10\", split=\"test\", with_info=True)"
      ],
      "execution_count": null,
      "outputs": []
    },
    {
      "cell_type": "code",
      "metadata": {
        "id": "u0hUo1YzlD22",
        "colab_type": "code",
        "colab": {}
      },
      "source": [
        "# 定義圖像縮放\n",
        "def parse_aug_fn(dataset):\n",
        "    def zoom(x, sh = 299, sw = 299):\n",
        "        x = tf.image.resize(x, (sh, sw))\n",
        "        return x\n",
        "    \n",
        "    # 影像標準化\n",
        "    x = tf.cast(dataset['image'], tf.float32) / 255.\n",
        "    # 影像放大到224*224\n",
        "    x = zoom(x)\n",
        "    y = tf.one_hot(dataset['label'], 10)\n",
        "    y = y\n",
        "    \n",
        "    return x, y"
      ],
      "execution_count": null,
      "outputs": []
    },
    {
      "cell_type": "code",
      "metadata": {
        "id": "nxzrUwjulD26",
        "colab_type": "code",
        "colab": {}
      },
      "source": [
        "# 資料處理\n",
        "batch_size = 128\n",
        "AUTOTUNE = tf.data.experimental.AUTOTUNE\n",
        "train_num = int(info.splits['train'].num_examples / 10) * 9\n",
        "test_data = test_data.map(map_func=parse_aug_fn, num_parallel_calls=AUTOTUNE)\n",
        "test_data = test_data.prefetch(buffer_size=AUTOTUNE)\n",
        "test_data_batch = test_data.batch(batch_size)"
      ],
      "execution_count": null,
      "outputs": []
    },
    {
      "cell_type": "code",
      "metadata": {
        "id": "X5qll09flD3m",
        "colab_type": "code",
        "colab": {
          "base_uri": "https://localhost:8080/",
          "height": 51
        },
        "outputId": "c91b1d9a-dc93-4924-b1c3-84a635fe9973"
      },
      "source": [
        "# 評估精準度(用batch加速計算)\n",
        "model.evaluate(test_data_batch)"
      ],
      "execution_count": null,
      "outputs": [
        {
          "output_type": "stream",
          "text": [
            "79/79 [==============================] - 89s 1s/step - loss: 0.5511 - categorical_accuracy: 0.8439\n"
          ],
          "name": "stdout"
        },
        {
          "output_type": "execute_result",
          "data": {
            "text/plain": [
              "[0.5510784983634949, 0.8439000248908997]"
            ]
          },
          "metadata": {
            "tags": []
          },
          "execution_count": 12
        }
      ]
    },
    {
      "cell_type": "code",
      "metadata": {
        "id": "FcXyMJnfURf1",
        "colab_type": "code",
        "colab": {
          "base_uri": "https://localhost:8080/",
          "height": 292
        },
        "outputId": "b0f14dff-b527-4738-9586-e462fd6260cb"
      },
      "source": [
        "# 簡單轉換成tf.lite形式\n",
        "converter = tf.lite.TFLiteConverter.from_keras_model(model)\n",
        "tflite_float_model = converter.convert()\n",
        "\n",
        "# Show model size in KBs.\n",
        "float_model_size = len(tflite_float_model) / 1024\n",
        "print('Float model size = %dKBs.' % float_model_size)"
      ],
      "execution_count": null,
      "outputs": [
        {
          "output_type": "stream",
          "text": [
            "WARNING:tensorflow:From /usr/local/lib/python3.6/dist-packages/tensorflow/python/training/tracking/tracking.py:111: Model.state_updates (from tensorflow.python.keras.engine.training) is deprecated and will be removed in a future version.\n",
            "Instructions for updating:\n",
            "This property should not be used in TensorFlow 2.0, as updates are applied automatically.\n"
          ],
          "name": "stdout"
        },
        {
          "output_type": "stream",
          "text": [
            "WARNING:tensorflow:From /usr/local/lib/python3.6/dist-packages/tensorflow/python/training/tracking/tracking.py:111: Model.state_updates (from tensorflow.python.keras.engine.training) is deprecated and will be removed in a future version.\n",
            "Instructions for updating:\n",
            "This property should not be used in TensorFlow 2.0, as updates are applied automatically.\n"
          ],
          "name": "stderr"
        },
        {
          "output_type": "stream",
          "text": [
            "WARNING:tensorflow:From /usr/local/lib/python3.6/dist-packages/tensorflow/python/training/tracking/tracking.py:111: Layer.updates (from tensorflow.python.keras.engine.base_layer) is deprecated and will be removed in a future version.\n",
            "Instructions for updating:\n",
            "This property should not be used in TensorFlow 2.0, as updates are applied automatically.\n"
          ],
          "name": "stdout"
        },
        {
          "output_type": "stream",
          "text": [
            "WARNING:tensorflow:From /usr/local/lib/python3.6/dist-packages/tensorflow/python/training/tracking/tracking.py:111: Layer.updates (from tensorflow.python.keras.engine.base_layer) is deprecated and will be removed in a future version.\n",
            "Instructions for updating:\n",
            "This property should not be used in TensorFlow 2.0, as updates are applied automatically.\n"
          ],
          "name": "stderr"
        },
        {
          "output_type": "stream",
          "text": [
            "INFO:tensorflow:Assets written to: /tmp/tmpp7mraqia/assets\n"
          ],
          "name": "stdout"
        },
        {
          "output_type": "stream",
          "text": [
            "INFO:tensorflow:Assets written to: /tmp/tmpp7mraqia/assets\n"
          ],
          "name": "stderr"
        },
        {
          "output_type": "stream",
          "text": [
            "Float model size = 93327KBs.\n"
          ],
          "name": "stdout"
        }
      ]
    },
    {
      "cell_type": "code",
      "metadata": {
        "id": "8bCt_mXI86bg",
        "colab_type": "code",
        "colab": {
          "base_uri": "https://localhost:8080/",
          "height": 85
        },
        "outputId": "07a63277-82c4-4d64-8d02-944f465ffc07"
      },
      "source": [
        "# 簡單Quantize model\n",
        "converter.optimizations = [tf.lite.Optimize.DEFAULT]\n",
        "tflite_quantized_model = converter.convert()\n",
        "\n",
        "# Show model size in KBs.\n",
        "quantized_model_size = len(tflite_quantized_model) / 1024\n",
        "print('Quantized model size = %dKBs,' % quantized_model_size)\n",
        "print('which is about %d%% of the float model size.'\\\n",
        "      % (quantized_model_size * 100 / float_model_size))"
      ],
      "execution_count": null,
      "outputs": [
        {
          "output_type": "stream",
          "text": [
            "INFO:tensorflow:Assets written to: /tmp/tmp8nedabq_/assets\n"
          ],
          "name": "stdout"
        },
        {
          "output_type": "stream",
          "text": [
            "INFO:tensorflow:Assets written to: /tmp/tmp8nedabq_/assets\n"
          ],
          "name": "stderr"
        },
        {
          "output_type": "stream",
          "text": [
            "Quantized model size = 23437KBs,\n",
            "which is about 25% of the float model size.\n"
          ],
          "name": "stdout"
        }
      ]
    },
    {
      "cell_type": "code",
      "metadata": {
        "id": "COMAZ0mCpeex",
        "colab_type": "code",
        "colab": {
          "base_uri": "https://localhost:8080/",
          "height": 51
        },
        "outputId": "3d543a30-4464-4da0-ee9a-4defd8217cb0"
      },
      "source": [
        "# 設定測試資料量\n",
        "n = int(input(\"請輸入test數量\\n\"))\n",
        "test_data_np = list(tfds.as_numpy(test_data.take(n)))\n",
        "\n",
        "## 會使用list是因為tfds.as_numpy產生出了的是generator\n",
        "## 在下面evaluate_tflite_model的function中，\n",
        "## 如果要重複呼叫函數數次，轉成list才不會error，\n",
        "## 因為generator執行過後的值會不見(節省記憶體)。"
      ],
      "execution_count": null,
      "outputs": [
        {
          "output_type": "stream",
          "text": [
            "請輸入test數量\n",
            "1000\n"
          ],
          "name": "stdout"
        }
      ]
    },
    {
      "cell_type": "code",
      "metadata": {
        "id": "m9t1wtCpVYE4",
        "colab_type": "code",
        "colab": {}
      },
      "source": [
        "# tflite的評估函數\n",
        "\n",
        "def evaluate_tflite_model(tflite_model):\n",
        "  # Initialize TFLite interpreter using the model.\n",
        "  interpreter = tf.lite.Interpreter(model_content=tflite_model)\n",
        "  interpreter.allocate_tensors()\n",
        "  input_tensor_index = interpreter.get_input_details()[0][\"index\"]\n",
        "  output = interpreter.tensor(interpreter.get_output_details()[0][\"index\"])\n",
        " \n",
        "  # Run predictions on every image in the \"test\" dataset.\n",
        "  prediction_digits = []\n",
        "  i = 0\n",
        "  accurate_count = 0\n",
        "  test_labels = []\n",
        "  for data in test_data_np:\n",
        "    # Pre-processing: add batch dimension and convert to float32 to match with\n",
        "    # the model's input data format.\n",
        "    # test_image = np.expand_dims(np.array(data[0]), axis=0).astype(np.float32)\n",
        "    test_image = np.expand_dims(data[0], axis=0).astype(np.float32)\n",
        "    interpreter.set_tensor(input_tensor_index, test_image)\n",
        " \n",
        "    # Run inference.\n",
        "    interpreter.invoke()\n",
        " \n",
        "    # Post-processing: remove batch dimension and find the digit with highest\n",
        "    # probability.\n",
        "    digit = np.argmax(output()[0])\n",
        "    prediction_digits.append(digit)\n",
        "    \n",
        "    test_labels.append(np.argmax(data[1]))\n",
        "    # print(\"digit:\",prediction_digits[i],\"labels:\",labels[i])\n",
        " \n",
        "    \n",
        "    i+=1\n",
        "    if i%100 == 0:\n",
        "      j=i*100.0/n\n",
        "      print('目前進度為{j}%。'.format(j=j))\n",
        "      # for index in range(len(prediction_digits)):\n",
        "      #   if prediction_digits[index] == test_labels[index]:\n",
        "      #     accurate_count += 1\n",
        "      # accuracy = accurate_count * 1.0 / len(prediction_digits)\n",
        "      # print(accuracy)\n",
        "    \n",
        "    \n",
        " \n",
        "  # Compare prediction results with ground truth labels to calculate accuracy.\n",
        "  \n",
        "  for index in range(len(prediction_digits)):\n",
        "    if prediction_digits[index] == test_labels[index]:\n",
        "      accurate_count += 1\n",
        "  accuracy = accurate_count * 1.0 / len(prediction_digits)\n",
        " \n",
        "  return accuracy"
      ],
      "execution_count": null,
      "outputs": []
    },
    {
      "cell_type": "code",
      "metadata": {
        "id": "4JmPQ0rTVLSU",
        "colab_type": "code",
        "colab": {
          "base_uri": "https://localhost:8080/",
          "height": 425
        },
        "outputId": "0e32fcf5-64e9-40cc-da03-56e5ac2b063a"
      },
      "source": [
        "print('tflite_float_model:')\n",
        "float_accuracy = evaluate_tflite_model(tflite_float_model)\n",
        "print('Float model accuracy = %.4f' % float_accuracy)\n",
        "print('tflite_quantized_model:')\n",
        "quantized_accuracy = evaluate_tflite_model(tflite_quantized_model)\n",
        "print('Quantized model accuracy = %.4f' % quantized_accuracy)"
      ],
      "execution_count": null,
      "outputs": [
        {
          "output_type": "stream",
          "text": [
            "tflite_float_model:\n",
            "目前進度為10.0%。\n",
            "目前進度為20.0%。\n",
            "目前進度為30.0%。\n",
            "目前進度為40.0%。\n",
            "目前進度為50.0%。\n",
            "目前進度為60.0%。\n",
            "目前進度為70.0%。\n",
            "目前進度為80.0%。\n",
            "目前進度為90.0%。\n",
            "目前進度為100.0%。\n",
            "Float model accuracy = 0.8490\n",
            "tflite_quantized_model:\n",
            "目前進度為10.0%。\n",
            "目前進度為20.0%。\n",
            "目前進度為30.0%。\n",
            "目前進度為40.0%。\n",
            "目前進度為50.0%。\n",
            "目前進度為60.0%。\n",
            "目前進度為70.0%。\n",
            "目前進度為80.0%。\n",
            "目前進度為90.0%。\n",
            "目前進度為100.0%。\n",
            "Quantized model accuracy = 0.7920\n"
          ],
          "name": "stdout"
        }
      ]
    }
  ]
}