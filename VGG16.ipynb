{
  "nbformat": 4,
  "nbformat_minor": 0,
  "metadata": {
    "kernelspec": {
      "display_name": "Python 3",
      "language": "python",
      "name": "python3"
    },
    "language_info": {
      "codemirror_mode": {
        "name": "ipython",
        "version": 3
      },
      "file_extension": ".py",
      "mimetype": "text/x-python",
      "name": "python",
      "nbconvert_exporter": "python",
      "pygments_lexer": "ipython3",
      "version": "3.7.6"
    },
    "colab": {
      "name": "VGG16.ipynb",
      "provenance": [],
      "include_colab_link": true
    },
    "accelerator": "GPU",
    "widgets": {
      "application/vnd.jupyter.widget-state+json": {
        "a5a5d5eea02547dfaea551f47def27e8": {
          "model_module": "@jupyter-widgets/controls",
          "model_name": "HBoxModel",
          "state": {
            "_view_name": "HBoxView",
            "_dom_classes": [],
            "_model_name": "HBoxModel",
            "_view_module": "@jupyter-widgets/controls",
            "_model_module_version": "1.5.0",
            "_view_count": null,
            "_view_module_version": "1.5.0",
            "box_style": "",
            "layout": "IPY_MODEL_5c8768be05c845e8a65682cd5a254243",
            "_model_module": "@jupyter-widgets/controls",
            "children": [
              "IPY_MODEL_c1daa5dd55f246b68961c5a427eddd1f",
              "IPY_MODEL_511b5a3c8288462dabff854ca426aa96"
            ]
          }
        },
        "5c8768be05c845e8a65682cd5a254243": {
          "model_module": "@jupyter-widgets/base",
          "model_name": "LayoutModel",
          "state": {
            "_view_name": "LayoutView",
            "grid_template_rows": null,
            "right": null,
            "justify_content": null,
            "_view_module": "@jupyter-widgets/base",
            "overflow": null,
            "_model_module_version": "1.2.0",
            "_view_count": null,
            "flex_flow": null,
            "width": null,
            "min_width": null,
            "border": null,
            "align_items": null,
            "bottom": null,
            "_model_module": "@jupyter-widgets/base",
            "top": null,
            "grid_column": null,
            "overflow_y": null,
            "overflow_x": null,
            "grid_auto_flow": null,
            "grid_area": null,
            "grid_template_columns": null,
            "flex": null,
            "_model_name": "LayoutModel",
            "justify_items": null,
            "grid_row": null,
            "max_height": null,
            "align_content": null,
            "visibility": null,
            "align_self": null,
            "height": null,
            "min_height": null,
            "padding": null,
            "grid_auto_rows": null,
            "grid_gap": null,
            "max_width": null,
            "order": null,
            "_view_module_version": "1.2.0",
            "grid_template_areas": null,
            "object_position": null,
            "object_fit": null,
            "grid_auto_columns": null,
            "margin": null,
            "display": null,
            "left": null
          }
        },
        "c1daa5dd55f246b68961c5a427eddd1f": {
          "model_module": "@jupyter-widgets/controls",
          "model_name": "FloatProgressModel",
          "state": {
            "_view_name": "ProgressView",
            "style": "IPY_MODEL_c1c858bec5b24c819f158e34cb13e05d",
            "_dom_classes": [],
            "description": "Dl Completed...: 100%",
            "_model_name": "FloatProgressModel",
            "bar_style": "success",
            "max": 1,
            "_view_module": "@jupyter-widgets/controls",
            "_model_module_version": "1.5.0",
            "value": 1,
            "_view_count": null,
            "_view_module_version": "1.5.0",
            "orientation": "horizontal",
            "min": 0,
            "description_tooltip": null,
            "_model_module": "@jupyter-widgets/controls",
            "layout": "IPY_MODEL_f46d58e5092a421fbc59f2924b0e0f34"
          }
        },
        "511b5a3c8288462dabff854ca426aa96": {
          "model_module": "@jupyter-widgets/controls",
          "model_name": "HTMLModel",
          "state": {
            "_view_name": "HTMLView",
            "style": "IPY_MODEL_4ecca140baa14912aadbbcfa2414ec5c",
            "_dom_classes": [],
            "description": "",
            "_model_name": "HTMLModel",
            "placeholder": "​",
            "_view_module": "@jupyter-widgets/controls",
            "_model_module_version": "1.5.0",
            "value": " 1/1 [00:14&lt;00:00, 14.59s/ url]",
            "_view_count": null,
            "_view_module_version": "1.5.0",
            "description_tooltip": null,
            "_model_module": "@jupyter-widgets/controls",
            "layout": "IPY_MODEL_746039663b31478890bf98e86d4ee957"
          }
        },
        "c1c858bec5b24c819f158e34cb13e05d": {
          "model_module": "@jupyter-widgets/controls",
          "model_name": "ProgressStyleModel",
          "state": {
            "_view_name": "StyleView",
            "_model_name": "ProgressStyleModel",
            "description_width": "initial",
            "_view_module": "@jupyter-widgets/base",
            "_model_module_version": "1.5.0",
            "_view_count": null,
            "_view_module_version": "1.2.0",
            "bar_color": null,
            "_model_module": "@jupyter-widgets/controls"
          }
        },
        "f46d58e5092a421fbc59f2924b0e0f34": {
          "model_module": "@jupyter-widgets/base",
          "model_name": "LayoutModel",
          "state": {
            "_view_name": "LayoutView",
            "grid_template_rows": null,
            "right": null,
            "justify_content": null,
            "_view_module": "@jupyter-widgets/base",
            "overflow": null,
            "_model_module_version": "1.2.0",
            "_view_count": null,
            "flex_flow": null,
            "width": null,
            "min_width": null,
            "border": null,
            "align_items": null,
            "bottom": null,
            "_model_module": "@jupyter-widgets/base",
            "top": null,
            "grid_column": null,
            "overflow_y": null,
            "overflow_x": null,
            "grid_auto_flow": null,
            "grid_area": null,
            "grid_template_columns": null,
            "flex": null,
            "_model_name": "LayoutModel",
            "justify_items": null,
            "grid_row": null,
            "max_height": null,
            "align_content": null,
            "visibility": null,
            "align_self": null,
            "height": null,
            "min_height": null,
            "padding": null,
            "grid_auto_rows": null,
            "grid_gap": null,
            "max_width": null,
            "order": null,
            "_view_module_version": "1.2.0",
            "grid_template_areas": null,
            "object_position": null,
            "object_fit": null,
            "grid_auto_columns": null,
            "margin": null,
            "display": null,
            "left": null
          }
        },
        "4ecca140baa14912aadbbcfa2414ec5c": {
          "model_module": "@jupyter-widgets/controls",
          "model_name": "DescriptionStyleModel",
          "state": {
            "_view_name": "StyleView",
            "_model_name": "DescriptionStyleModel",
            "description_width": "",
            "_view_module": "@jupyter-widgets/base",
            "_model_module_version": "1.5.0",
            "_view_count": null,
            "_view_module_version": "1.2.0",
            "_model_module": "@jupyter-widgets/controls"
          }
        },
        "746039663b31478890bf98e86d4ee957": {
          "model_module": "@jupyter-widgets/base",
          "model_name": "LayoutModel",
          "state": {
            "_view_name": "LayoutView",
            "grid_template_rows": null,
            "right": null,
            "justify_content": null,
            "_view_module": "@jupyter-widgets/base",
            "overflow": null,
            "_model_module_version": "1.2.0",
            "_view_count": null,
            "flex_flow": null,
            "width": null,
            "min_width": null,
            "border": null,
            "align_items": null,
            "bottom": null,
            "_model_module": "@jupyter-widgets/base",
            "top": null,
            "grid_column": null,
            "overflow_y": null,
            "overflow_x": null,
            "grid_auto_flow": null,
            "grid_area": null,
            "grid_template_columns": null,
            "flex": null,
            "_model_name": "LayoutModel",
            "justify_items": null,
            "grid_row": null,
            "max_height": null,
            "align_content": null,
            "visibility": null,
            "align_self": null,
            "height": null,
            "min_height": null,
            "padding": null,
            "grid_auto_rows": null,
            "grid_gap": null,
            "max_width": null,
            "order": null,
            "_view_module_version": "1.2.0",
            "grid_template_areas": null,
            "object_position": null,
            "object_fit": null,
            "grid_auto_columns": null,
            "margin": null,
            "display": null,
            "left": null
          }
        },
        "9f1f014550a94c4da2fded01c009e060": {
          "model_module": "@jupyter-widgets/controls",
          "model_name": "HBoxModel",
          "state": {
            "_view_name": "HBoxView",
            "_dom_classes": [],
            "_model_name": "HBoxModel",
            "_view_module": "@jupyter-widgets/controls",
            "_model_module_version": "1.5.0",
            "_view_count": null,
            "_view_module_version": "1.5.0",
            "box_style": "",
            "layout": "IPY_MODEL_6e73244c52a843b8aedebc2e5809664d",
            "_model_module": "@jupyter-widgets/controls",
            "children": [
              "IPY_MODEL_95e2ac3362c04f2d9c12f48a38c5d616",
              "IPY_MODEL_d7bb951687914e4da69abe54ea6cbebf"
            ]
          }
        },
        "6e73244c52a843b8aedebc2e5809664d": {
          "model_module": "@jupyter-widgets/base",
          "model_name": "LayoutModel",
          "state": {
            "_view_name": "LayoutView",
            "grid_template_rows": null,
            "right": null,
            "justify_content": null,
            "_view_module": "@jupyter-widgets/base",
            "overflow": null,
            "_model_module_version": "1.2.0",
            "_view_count": null,
            "flex_flow": null,
            "width": null,
            "min_width": null,
            "border": null,
            "align_items": null,
            "bottom": null,
            "_model_module": "@jupyter-widgets/base",
            "top": null,
            "grid_column": null,
            "overflow_y": null,
            "overflow_x": null,
            "grid_auto_flow": null,
            "grid_area": null,
            "grid_template_columns": null,
            "flex": null,
            "_model_name": "LayoutModel",
            "justify_items": null,
            "grid_row": null,
            "max_height": null,
            "align_content": null,
            "visibility": null,
            "align_self": null,
            "height": null,
            "min_height": null,
            "padding": null,
            "grid_auto_rows": null,
            "grid_gap": null,
            "max_width": null,
            "order": null,
            "_view_module_version": "1.2.0",
            "grid_template_areas": null,
            "object_position": null,
            "object_fit": null,
            "grid_auto_columns": null,
            "margin": null,
            "display": null,
            "left": null
          }
        },
        "95e2ac3362c04f2d9c12f48a38c5d616": {
          "model_module": "@jupyter-widgets/controls",
          "model_name": "FloatProgressModel",
          "state": {
            "_view_name": "ProgressView",
            "style": "IPY_MODEL_6facc02f77d641b998634c90ccc7ee26",
            "_dom_classes": [],
            "description": "Dl Size...: 100%",
            "_model_name": "FloatProgressModel",
            "bar_style": "success",
            "max": 1,
            "_view_module": "@jupyter-widgets/controls",
            "_model_module_version": "1.5.0",
            "value": 1,
            "_view_count": null,
            "_view_module_version": "1.5.0",
            "orientation": "horizontal",
            "min": 0,
            "description_tooltip": null,
            "_model_module": "@jupyter-widgets/controls",
            "layout": "IPY_MODEL_f9d8cb0436bc4599a18aa41d5cd2442b"
          }
        },
        "d7bb951687914e4da69abe54ea6cbebf": {
          "model_module": "@jupyter-widgets/controls",
          "model_name": "HTMLModel",
          "state": {
            "_view_name": "HTMLView",
            "style": "IPY_MODEL_93f517d72c34431b89fcf999a0340040",
            "_dom_classes": [],
            "description": "",
            "_model_name": "HTMLModel",
            "placeholder": "​",
            "_view_module": "@jupyter-widgets/controls",
            "_model_module_version": "1.5.0",
            "value": " 162/162 [00:14&lt;00:00, 11.14 MiB/s]",
            "_view_count": null,
            "_view_module_version": "1.5.0",
            "description_tooltip": null,
            "_model_module": "@jupyter-widgets/controls",
            "layout": "IPY_MODEL_4b76dac8d7ca46d181f6342d5050b7b6"
          }
        },
        "6facc02f77d641b998634c90ccc7ee26": {
          "model_module": "@jupyter-widgets/controls",
          "model_name": "ProgressStyleModel",
          "state": {
            "_view_name": "StyleView",
            "_model_name": "ProgressStyleModel",
            "description_width": "initial",
            "_view_module": "@jupyter-widgets/base",
            "_model_module_version": "1.5.0",
            "_view_count": null,
            "_view_module_version": "1.2.0",
            "bar_color": null,
            "_model_module": "@jupyter-widgets/controls"
          }
        },
        "f9d8cb0436bc4599a18aa41d5cd2442b": {
          "model_module": "@jupyter-widgets/base",
          "model_name": "LayoutModel",
          "state": {
            "_view_name": "LayoutView",
            "grid_template_rows": null,
            "right": null,
            "justify_content": null,
            "_view_module": "@jupyter-widgets/base",
            "overflow": null,
            "_model_module_version": "1.2.0",
            "_view_count": null,
            "flex_flow": null,
            "width": null,
            "min_width": null,
            "border": null,
            "align_items": null,
            "bottom": null,
            "_model_module": "@jupyter-widgets/base",
            "top": null,
            "grid_column": null,
            "overflow_y": null,
            "overflow_x": null,
            "grid_auto_flow": null,
            "grid_area": null,
            "grid_template_columns": null,
            "flex": null,
            "_model_name": "LayoutModel",
            "justify_items": null,
            "grid_row": null,
            "max_height": null,
            "align_content": null,
            "visibility": null,
            "align_self": null,
            "height": null,
            "min_height": null,
            "padding": null,
            "grid_auto_rows": null,
            "grid_gap": null,
            "max_width": null,
            "order": null,
            "_view_module_version": "1.2.0",
            "grid_template_areas": null,
            "object_position": null,
            "object_fit": null,
            "grid_auto_columns": null,
            "margin": null,
            "display": null,
            "left": null
          }
        },
        "93f517d72c34431b89fcf999a0340040": {
          "model_module": "@jupyter-widgets/controls",
          "model_name": "DescriptionStyleModel",
          "state": {
            "_view_name": "StyleView",
            "_model_name": "DescriptionStyleModel",
            "description_width": "",
            "_view_module": "@jupyter-widgets/base",
            "_model_module_version": "1.5.0",
            "_view_count": null,
            "_view_module_version": "1.2.0",
            "_model_module": "@jupyter-widgets/controls"
          }
        },
        "4b76dac8d7ca46d181f6342d5050b7b6": {
          "model_module": "@jupyter-widgets/base",
          "model_name": "LayoutModel",
          "state": {
            "_view_name": "LayoutView",
            "grid_template_rows": null,
            "right": null,
            "justify_content": null,
            "_view_module": "@jupyter-widgets/base",
            "overflow": null,
            "_model_module_version": "1.2.0",
            "_view_count": null,
            "flex_flow": null,
            "width": null,
            "min_width": null,
            "border": null,
            "align_items": null,
            "bottom": null,
            "_model_module": "@jupyter-widgets/base",
            "top": null,
            "grid_column": null,
            "overflow_y": null,
            "overflow_x": null,
            "grid_auto_flow": null,
            "grid_area": null,
            "grid_template_columns": null,
            "flex": null,
            "_model_name": "LayoutModel",
            "justify_items": null,
            "grid_row": null,
            "max_height": null,
            "align_content": null,
            "visibility": null,
            "align_self": null,
            "height": null,
            "min_height": null,
            "padding": null,
            "grid_auto_rows": null,
            "grid_gap": null,
            "max_width": null,
            "order": null,
            "_view_module_version": "1.2.0",
            "grid_template_areas": null,
            "object_position": null,
            "object_fit": null,
            "grid_auto_columns": null,
            "margin": null,
            "display": null,
            "left": null
          }
        },
        "34b31914022a4f00bcc3ff586049d8d7": {
          "model_module": "@jupyter-widgets/controls",
          "model_name": "HBoxModel",
          "state": {
            "_view_name": "HBoxView",
            "_dom_classes": [],
            "_model_name": "HBoxModel",
            "_view_module": "@jupyter-widgets/controls",
            "_model_module_version": "1.5.0",
            "_view_count": null,
            "_view_module_version": "1.5.0",
            "box_style": "",
            "layout": "IPY_MODEL_3f95dba038d84ddd852eace0f5677908",
            "_model_module": "@jupyter-widgets/controls",
            "children": [
              "IPY_MODEL_d4f5e577267b4a4991ac843f4d8e06c9",
              "IPY_MODEL_279dfca4292b413dbf5bed49460e8294"
            ]
          }
        },
        "3f95dba038d84ddd852eace0f5677908": {
          "model_module": "@jupyter-widgets/base",
          "model_name": "LayoutModel",
          "state": {
            "_view_name": "LayoutView",
            "grid_template_rows": null,
            "right": null,
            "justify_content": null,
            "_view_module": "@jupyter-widgets/base",
            "overflow": null,
            "_model_module_version": "1.2.0",
            "_view_count": null,
            "flex_flow": null,
            "width": null,
            "min_width": null,
            "border": null,
            "align_items": null,
            "bottom": null,
            "_model_module": "@jupyter-widgets/base",
            "top": null,
            "grid_column": null,
            "overflow_y": null,
            "overflow_x": null,
            "grid_auto_flow": null,
            "grid_area": null,
            "grid_template_columns": null,
            "flex": null,
            "_model_name": "LayoutModel",
            "justify_items": null,
            "grid_row": null,
            "max_height": null,
            "align_content": null,
            "visibility": null,
            "align_self": null,
            "height": null,
            "min_height": null,
            "padding": null,
            "grid_auto_rows": null,
            "grid_gap": null,
            "max_width": null,
            "order": null,
            "_view_module_version": "1.2.0",
            "grid_template_areas": null,
            "object_position": null,
            "object_fit": null,
            "grid_auto_columns": null,
            "margin": null,
            "display": null,
            "left": null
          }
        },
        "d4f5e577267b4a4991ac843f4d8e06c9": {
          "model_module": "@jupyter-widgets/controls",
          "model_name": "FloatProgressModel",
          "state": {
            "_view_name": "ProgressView",
            "style": "IPY_MODEL_20d90af3eec449fc8cfffd56a3427f2e",
            "_dom_classes": [],
            "description": "Extraction completed...: 100%",
            "_model_name": "FloatProgressModel",
            "bar_style": "success",
            "max": 1,
            "_view_module": "@jupyter-widgets/controls",
            "_model_module_version": "1.5.0",
            "value": 1,
            "_view_count": null,
            "_view_module_version": "1.5.0",
            "orientation": "horizontal",
            "min": 0,
            "description_tooltip": null,
            "_model_module": "@jupyter-widgets/controls",
            "layout": "IPY_MODEL_d8bc54662a244d5f858f40a87d510e60"
          }
        },
        "279dfca4292b413dbf5bed49460e8294": {
          "model_module": "@jupyter-widgets/controls",
          "model_name": "HTMLModel",
          "state": {
            "_view_name": "HTMLView",
            "style": "IPY_MODEL_bf5ea4284fc649d59f3133020270409a",
            "_dom_classes": [],
            "description": "",
            "_model_name": "HTMLModel",
            "placeholder": "​",
            "_view_module": "@jupyter-widgets/controls",
            "_model_module_version": "1.5.0",
            "value": " 1/1 [00:14&lt;00:00, 14.50s/ file]",
            "_view_count": null,
            "_view_module_version": "1.5.0",
            "description_tooltip": null,
            "_model_module": "@jupyter-widgets/controls",
            "layout": "IPY_MODEL_770f63a9ae2441ec98f4ea8af85ea5c3"
          }
        },
        "20d90af3eec449fc8cfffd56a3427f2e": {
          "model_module": "@jupyter-widgets/controls",
          "model_name": "ProgressStyleModel",
          "state": {
            "_view_name": "StyleView",
            "_model_name": "ProgressStyleModel",
            "description_width": "initial",
            "_view_module": "@jupyter-widgets/base",
            "_model_module_version": "1.5.0",
            "_view_count": null,
            "_view_module_version": "1.2.0",
            "bar_color": null,
            "_model_module": "@jupyter-widgets/controls"
          }
        },
        "d8bc54662a244d5f858f40a87d510e60": {
          "model_module": "@jupyter-widgets/base",
          "model_name": "LayoutModel",
          "state": {
            "_view_name": "LayoutView",
            "grid_template_rows": null,
            "right": null,
            "justify_content": null,
            "_view_module": "@jupyter-widgets/base",
            "overflow": null,
            "_model_module_version": "1.2.0",
            "_view_count": null,
            "flex_flow": null,
            "width": null,
            "min_width": null,
            "border": null,
            "align_items": null,
            "bottom": null,
            "_model_module": "@jupyter-widgets/base",
            "top": null,
            "grid_column": null,
            "overflow_y": null,
            "overflow_x": null,
            "grid_auto_flow": null,
            "grid_area": null,
            "grid_template_columns": null,
            "flex": null,
            "_model_name": "LayoutModel",
            "justify_items": null,
            "grid_row": null,
            "max_height": null,
            "align_content": null,
            "visibility": null,
            "align_self": null,
            "height": null,
            "min_height": null,
            "padding": null,
            "grid_auto_rows": null,
            "grid_gap": null,
            "max_width": null,
            "order": null,
            "_view_module_version": "1.2.0",
            "grid_template_areas": null,
            "object_position": null,
            "object_fit": null,
            "grid_auto_columns": null,
            "margin": null,
            "display": null,
            "left": null
          }
        },
        "bf5ea4284fc649d59f3133020270409a": {
          "model_module": "@jupyter-widgets/controls",
          "model_name": "DescriptionStyleModel",
          "state": {
            "_view_name": "StyleView",
            "_model_name": "DescriptionStyleModel",
            "description_width": "",
            "_view_module": "@jupyter-widgets/base",
            "_model_module_version": "1.5.0",
            "_view_count": null,
            "_view_module_version": "1.2.0",
            "_model_module": "@jupyter-widgets/controls"
          }
        },
        "770f63a9ae2441ec98f4ea8af85ea5c3": {
          "model_module": "@jupyter-widgets/base",
          "model_name": "LayoutModel",
          "state": {
            "_view_name": "LayoutView",
            "grid_template_rows": null,
            "right": null,
            "justify_content": null,
            "_view_module": "@jupyter-widgets/base",
            "overflow": null,
            "_model_module_version": "1.2.0",
            "_view_count": null,
            "flex_flow": null,
            "width": null,
            "min_width": null,
            "border": null,
            "align_items": null,
            "bottom": null,
            "_model_module": "@jupyter-widgets/base",
            "top": null,
            "grid_column": null,
            "overflow_y": null,
            "overflow_x": null,
            "grid_auto_flow": null,
            "grid_area": null,
            "grid_template_columns": null,
            "flex": null,
            "_model_name": "LayoutModel",
            "justify_items": null,
            "grid_row": null,
            "max_height": null,
            "align_content": null,
            "visibility": null,
            "align_self": null,
            "height": null,
            "min_height": null,
            "padding": null,
            "grid_auto_rows": null,
            "grid_gap": null,
            "max_width": null,
            "order": null,
            "_view_module_version": "1.2.0",
            "grid_template_areas": null,
            "object_position": null,
            "object_fit": null,
            "grid_auto_columns": null,
            "margin": null,
            "display": null,
            "left": null
          }
        },
        "393f466d8adf43d4a52654450fe1b811": {
          "model_module": "@jupyter-widgets/controls",
          "model_name": "HBoxModel",
          "state": {
            "_view_name": "HBoxView",
            "_dom_classes": [],
            "_model_name": "HBoxModel",
            "_view_module": "@jupyter-widgets/controls",
            "_model_module_version": "1.5.0",
            "_view_count": null,
            "_view_module_version": "1.5.0",
            "box_style": "",
            "layout": "IPY_MODEL_f7e0ab398bf64d75b31ecb11d245d2a6",
            "_model_module": "@jupyter-widgets/controls",
            "children": [
              "IPY_MODEL_9832ef5c32374daa93c7e4b6c3def8fc",
              "IPY_MODEL_7349d58c37d745ed8242f86045047081"
            ]
          }
        },
        "f7e0ab398bf64d75b31ecb11d245d2a6": {
          "model_module": "@jupyter-widgets/base",
          "model_name": "LayoutModel",
          "state": {
            "_view_name": "LayoutView",
            "grid_template_rows": null,
            "right": null,
            "justify_content": null,
            "_view_module": "@jupyter-widgets/base",
            "overflow": null,
            "_model_module_version": "1.2.0",
            "_view_count": null,
            "flex_flow": null,
            "width": null,
            "min_width": null,
            "border": null,
            "align_items": null,
            "bottom": null,
            "_model_module": "@jupyter-widgets/base",
            "top": null,
            "grid_column": null,
            "overflow_y": null,
            "overflow_x": null,
            "grid_auto_flow": null,
            "grid_area": null,
            "grid_template_columns": null,
            "flex": null,
            "_model_name": "LayoutModel",
            "justify_items": null,
            "grid_row": null,
            "max_height": null,
            "align_content": null,
            "visibility": null,
            "align_self": null,
            "height": null,
            "min_height": null,
            "padding": null,
            "grid_auto_rows": null,
            "grid_gap": null,
            "max_width": null,
            "order": null,
            "_view_module_version": "1.2.0",
            "grid_template_areas": null,
            "object_position": null,
            "object_fit": null,
            "grid_auto_columns": null,
            "margin": null,
            "display": null,
            "left": null
          }
        },
        "9832ef5c32374daa93c7e4b6c3def8fc": {
          "model_module": "@jupyter-widgets/controls",
          "model_name": "FloatProgressModel",
          "state": {
            "_view_name": "ProgressView",
            "style": "IPY_MODEL_845e7a3a759747e197c452700ad0bbb7",
            "_dom_classes": [],
            "description": "",
            "_model_name": "FloatProgressModel",
            "bar_style": "info",
            "max": 1,
            "_view_module": "@jupyter-widgets/controls",
            "_model_module_version": "1.5.0",
            "value": 1,
            "_view_count": null,
            "_view_module_version": "1.5.0",
            "orientation": "horizontal",
            "min": 0,
            "description_tooltip": null,
            "_model_module": "@jupyter-widgets/controls",
            "layout": "IPY_MODEL_1e782f7b778841e9baa6e6390062f277"
          }
        },
        "7349d58c37d745ed8242f86045047081": {
          "model_module": "@jupyter-widgets/controls",
          "model_name": "HTMLModel",
          "state": {
            "_view_name": "HTMLView",
            "style": "IPY_MODEL_827e5e98aed343979567d5bb5d4fb3a0",
            "_dom_classes": [],
            "description": "",
            "_model_name": "HTMLModel",
            "placeholder": "​",
            "_view_module": "@jupyter-widgets/controls",
            "_model_module_version": "1.5.0",
            "value": " 50000/0 [00:38&lt;00:00, 1487.66 examples/s]",
            "_view_count": null,
            "_view_module_version": "1.5.0",
            "description_tooltip": null,
            "_model_module": "@jupyter-widgets/controls",
            "layout": "IPY_MODEL_2fdff80964444681bfd8ef85cdd8da55"
          }
        },
        "845e7a3a759747e197c452700ad0bbb7": {
          "model_module": "@jupyter-widgets/controls",
          "model_name": "ProgressStyleModel",
          "state": {
            "_view_name": "StyleView",
            "_model_name": "ProgressStyleModel",
            "description_width": "initial",
            "_view_module": "@jupyter-widgets/base",
            "_model_module_version": "1.5.0",
            "_view_count": null,
            "_view_module_version": "1.2.0",
            "bar_color": null,
            "_model_module": "@jupyter-widgets/controls"
          }
        },
        "1e782f7b778841e9baa6e6390062f277": {
          "model_module": "@jupyter-widgets/base",
          "model_name": "LayoutModel",
          "state": {
            "_view_name": "LayoutView",
            "grid_template_rows": null,
            "right": null,
            "justify_content": null,
            "_view_module": "@jupyter-widgets/base",
            "overflow": null,
            "_model_module_version": "1.2.0",
            "_view_count": null,
            "flex_flow": null,
            "width": null,
            "min_width": null,
            "border": null,
            "align_items": null,
            "bottom": null,
            "_model_module": "@jupyter-widgets/base",
            "top": null,
            "grid_column": null,
            "overflow_y": null,
            "overflow_x": null,
            "grid_auto_flow": null,
            "grid_area": null,
            "grid_template_columns": null,
            "flex": null,
            "_model_name": "LayoutModel",
            "justify_items": null,
            "grid_row": null,
            "max_height": null,
            "align_content": null,
            "visibility": null,
            "align_self": null,
            "height": null,
            "min_height": null,
            "padding": null,
            "grid_auto_rows": null,
            "grid_gap": null,
            "max_width": null,
            "order": null,
            "_view_module_version": "1.2.0",
            "grid_template_areas": null,
            "object_position": null,
            "object_fit": null,
            "grid_auto_columns": null,
            "margin": null,
            "display": null,
            "left": null
          }
        },
        "827e5e98aed343979567d5bb5d4fb3a0": {
          "model_module": "@jupyter-widgets/controls",
          "model_name": "DescriptionStyleModel",
          "state": {
            "_view_name": "StyleView",
            "_model_name": "DescriptionStyleModel",
            "description_width": "",
            "_view_module": "@jupyter-widgets/base",
            "_model_module_version": "1.5.0",
            "_view_count": null,
            "_view_module_version": "1.2.0",
            "_model_module": "@jupyter-widgets/controls"
          }
        },
        "2fdff80964444681bfd8ef85cdd8da55": {
          "model_module": "@jupyter-widgets/base",
          "model_name": "LayoutModel",
          "state": {
            "_view_name": "LayoutView",
            "grid_template_rows": null,
            "right": null,
            "justify_content": null,
            "_view_module": "@jupyter-widgets/base",
            "overflow": null,
            "_model_module_version": "1.2.0",
            "_view_count": null,
            "flex_flow": null,
            "width": null,
            "min_width": null,
            "border": null,
            "align_items": null,
            "bottom": null,
            "_model_module": "@jupyter-widgets/base",
            "top": null,
            "grid_column": null,
            "overflow_y": null,
            "overflow_x": null,
            "grid_auto_flow": null,
            "grid_area": null,
            "grid_template_columns": null,
            "flex": null,
            "_model_name": "LayoutModel",
            "justify_items": null,
            "grid_row": null,
            "max_height": null,
            "align_content": null,
            "visibility": null,
            "align_self": null,
            "height": null,
            "min_height": null,
            "padding": null,
            "grid_auto_rows": null,
            "grid_gap": null,
            "max_width": null,
            "order": null,
            "_view_module_version": "1.2.0",
            "grid_template_areas": null,
            "object_position": null,
            "object_fit": null,
            "grid_auto_columns": null,
            "margin": null,
            "display": null,
            "left": null
          }
        },
        "4ea5de3917a841f38a17a14d0dc6a774": {
          "model_module": "@jupyter-widgets/controls",
          "model_name": "HBoxModel",
          "state": {
            "_view_name": "HBoxView",
            "_dom_classes": [],
            "_model_name": "HBoxModel",
            "_view_module": "@jupyter-widgets/controls",
            "_model_module_version": "1.5.0",
            "_view_count": null,
            "_view_module_version": "1.5.0",
            "box_style": "",
            "layout": "IPY_MODEL_970b4ddd3ef14f29a467c581903ef26e",
            "_model_module": "@jupyter-widgets/controls",
            "children": [
              "IPY_MODEL_4da770165748460da276bfd6174b3584",
              "IPY_MODEL_b518b1bdbeee4aeca45fdcc59cf1a3da"
            ]
          }
        },
        "970b4ddd3ef14f29a467c581903ef26e": {
          "model_module": "@jupyter-widgets/base",
          "model_name": "LayoutModel",
          "state": {
            "_view_name": "LayoutView",
            "grid_template_rows": null,
            "right": null,
            "justify_content": null,
            "_view_module": "@jupyter-widgets/base",
            "overflow": null,
            "_model_module_version": "1.2.0",
            "_view_count": null,
            "flex_flow": null,
            "width": null,
            "min_width": null,
            "border": null,
            "align_items": null,
            "bottom": null,
            "_model_module": "@jupyter-widgets/base",
            "top": null,
            "grid_column": null,
            "overflow_y": null,
            "overflow_x": null,
            "grid_auto_flow": null,
            "grid_area": null,
            "grid_template_columns": null,
            "flex": null,
            "_model_name": "LayoutModel",
            "justify_items": null,
            "grid_row": null,
            "max_height": null,
            "align_content": null,
            "visibility": null,
            "align_self": null,
            "height": null,
            "min_height": null,
            "padding": null,
            "grid_auto_rows": null,
            "grid_gap": null,
            "max_width": null,
            "order": null,
            "_view_module_version": "1.2.0",
            "grid_template_areas": null,
            "object_position": null,
            "object_fit": null,
            "grid_auto_columns": null,
            "margin": null,
            "display": null,
            "left": null
          }
        },
        "4da770165748460da276bfd6174b3584": {
          "model_module": "@jupyter-widgets/controls",
          "model_name": "FloatProgressModel",
          "state": {
            "_view_name": "ProgressView",
            "style": "IPY_MODEL_ac07145fc6204950964ad842d4a6f6fa",
            "_dom_classes": [],
            "description": " 81%",
            "_model_name": "FloatProgressModel",
            "bar_style": "danger",
            "max": 50000,
            "_view_module": "@jupyter-widgets/controls",
            "_model_module_version": "1.5.0",
            "value": 40704,
            "_view_count": null,
            "_view_module_version": "1.5.0",
            "orientation": "horizontal",
            "min": 0,
            "description_tooltip": null,
            "_model_module": "@jupyter-widgets/controls",
            "layout": "IPY_MODEL_f56d5b6e5e25463bb111c28aeb35ceea"
          }
        },
        "b518b1bdbeee4aeca45fdcc59cf1a3da": {
          "model_module": "@jupyter-widgets/controls",
          "model_name": "HTMLModel",
          "state": {
            "_view_name": "HTMLView",
            "style": "IPY_MODEL_3dfa6614f3724585ad2ddf7600d2d504",
            "_dom_classes": [],
            "description": "",
            "_model_name": "HTMLModel",
            "placeholder": "​",
            "_view_module": "@jupyter-widgets/controls",
            "_model_module_version": "1.5.0",
            "value": " 40704/50000 [00:00&lt;00:00, 36522.43 examples/s]",
            "_view_count": null,
            "_view_module_version": "1.5.0",
            "description_tooltip": null,
            "_model_module": "@jupyter-widgets/controls",
            "layout": "IPY_MODEL_5168d8904f774940824bb5eba01d5108"
          }
        },
        "ac07145fc6204950964ad842d4a6f6fa": {
          "model_module": "@jupyter-widgets/controls",
          "model_name": "ProgressStyleModel",
          "state": {
            "_view_name": "StyleView",
            "_model_name": "ProgressStyleModel",
            "description_width": "initial",
            "_view_module": "@jupyter-widgets/base",
            "_model_module_version": "1.5.0",
            "_view_count": null,
            "_view_module_version": "1.2.0",
            "bar_color": null,
            "_model_module": "@jupyter-widgets/controls"
          }
        },
        "f56d5b6e5e25463bb111c28aeb35ceea": {
          "model_module": "@jupyter-widgets/base",
          "model_name": "LayoutModel",
          "state": {
            "_view_name": "LayoutView",
            "grid_template_rows": null,
            "right": null,
            "justify_content": null,
            "_view_module": "@jupyter-widgets/base",
            "overflow": null,
            "_model_module_version": "1.2.0",
            "_view_count": null,
            "flex_flow": null,
            "width": null,
            "min_width": null,
            "border": null,
            "align_items": null,
            "bottom": null,
            "_model_module": "@jupyter-widgets/base",
            "top": null,
            "grid_column": null,
            "overflow_y": null,
            "overflow_x": null,
            "grid_auto_flow": null,
            "grid_area": null,
            "grid_template_columns": null,
            "flex": null,
            "_model_name": "LayoutModel",
            "justify_items": null,
            "grid_row": null,
            "max_height": null,
            "align_content": null,
            "visibility": null,
            "align_self": null,
            "height": null,
            "min_height": null,
            "padding": null,
            "grid_auto_rows": null,
            "grid_gap": null,
            "max_width": null,
            "order": null,
            "_view_module_version": "1.2.0",
            "grid_template_areas": null,
            "object_position": null,
            "object_fit": null,
            "grid_auto_columns": null,
            "margin": null,
            "display": null,
            "left": null
          }
        },
        "3dfa6614f3724585ad2ddf7600d2d504": {
          "model_module": "@jupyter-widgets/controls",
          "model_name": "DescriptionStyleModel",
          "state": {
            "_view_name": "StyleView",
            "_model_name": "DescriptionStyleModel",
            "description_width": "",
            "_view_module": "@jupyter-widgets/base",
            "_model_module_version": "1.5.0",
            "_view_count": null,
            "_view_module_version": "1.2.0",
            "_model_module": "@jupyter-widgets/controls"
          }
        },
        "5168d8904f774940824bb5eba01d5108": {
          "model_module": "@jupyter-widgets/base",
          "model_name": "LayoutModel",
          "state": {
            "_view_name": "LayoutView",
            "grid_template_rows": null,
            "right": null,
            "justify_content": null,
            "_view_module": "@jupyter-widgets/base",
            "overflow": null,
            "_model_module_version": "1.2.0",
            "_view_count": null,
            "flex_flow": null,
            "width": null,
            "min_width": null,
            "border": null,
            "align_items": null,
            "bottom": null,
            "_model_module": "@jupyter-widgets/base",
            "top": null,
            "grid_column": null,
            "overflow_y": null,
            "overflow_x": null,
            "grid_auto_flow": null,
            "grid_area": null,
            "grid_template_columns": null,
            "flex": null,
            "_model_name": "LayoutModel",
            "justify_items": null,
            "grid_row": null,
            "max_height": null,
            "align_content": null,
            "visibility": null,
            "align_self": null,
            "height": null,
            "min_height": null,
            "padding": null,
            "grid_auto_rows": null,
            "grid_gap": null,
            "max_width": null,
            "order": null,
            "_view_module_version": "1.2.0",
            "grid_template_areas": null,
            "object_position": null,
            "object_fit": null,
            "grid_auto_columns": null,
            "margin": null,
            "display": null,
            "left": null
          }
        },
        "c56c96ce40a8401b99e6e777b30a57a5": {
          "model_module": "@jupyter-widgets/controls",
          "model_name": "HBoxModel",
          "state": {
            "_view_name": "HBoxView",
            "_dom_classes": [],
            "_model_name": "HBoxModel",
            "_view_module": "@jupyter-widgets/controls",
            "_model_module_version": "1.5.0",
            "_view_count": null,
            "_view_module_version": "1.5.0",
            "box_style": "",
            "layout": "IPY_MODEL_ce570f27375d4447bec0487faeb990c6",
            "_model_module": "@jupyter-widgets/controls",
            "children": [
              "IPY_MODEL_e31c051357e745fcadcdfa385e7bb301",
              "IPY_MODEL_49555b68a35346aa8d8cd35472e34f47"
            ]
          }
        },
        "ce570f27375d4447bec0487faeb990c6": {
          "model_module": "@jupyter-widgets/base",
          "model_name": "LayoutModel",
          "state": {
            "_view_name": "LayoutView",
            "grid_template_rows": null,
            "right": null,
            "justify_content": null,
            "_view_module": "@jupyter-widgets/base",
            "overflow": null,
            "_model_module_version": "1.2.0",
            "_view_count": null,
            "flex_flow": null,
            "width": null,
            "min_width": null,
            "border": null,
            "align_items": null,
            "bottom": null,
            "_model_module": "@jupyter-widgets/base",
            "top": null,
            "grid_column": null,
            "overflow_y": null,
            "overflow_x": null,
            "grid_auto_flow": null,
            "grid_area": null,
            "grid_template_columns": null,
            "flex": null,
            "_model_name": "LayoutModel",
            "justify_items": null,
            "grid_row": null,
            "max_height": null,
            "align_content": null,
            "visibility": null,
            "align_self": null,
            "height": null,
            "min_height": null,
            "padding": null,
            "grid_auto_rows": null,
            "grid_gap": null,
            "max_width": null,
            "order": null,
            "_view_module_version": "1.2.0",
            "grid_template_areas": null,
            "object_position": null,
            "object_fit": null,
            "grid_auto_columns": null,
            "margin": null,
            "display": null,
            "left": null
          }
        },
        "e31c051357e745fcadcdfa385e7bb301": {
          "model_module": "@jupyter-widgets/controls",
          "model_name": "FloatProgressModel",
          "state": {
            "_view_name": "ProgressView",
            "style": "IPY_MODEL_ea84f0c52042492e87d8366a46d357f1",
            "_dom_classes": [],
            "description": "",
            "_model_name": "FloatProgressModel",
            "bar_style": "info",
            "max": 1,
            "_view_module": "@jupyter-widgets/controls",
            "_model_module_version": "1.5.0",
            "value": 1,
            "_view_count": null,
            "_view_module_version": "1.5.0",
            "orientation": "horizontal",
            "min": 0,
            "description_tooltip": null,
            "_model_module": "@jupyter-widgets/controls",
            "layout": "IPY_MODEL_f6b4d895cd9849b5a028487e6ab00d30"
          }
        },
        "49555b68a35346aa8d8cd35472e34f47": {
          "model_module": "@jupyter-widgets/controls",
          "model_name": "HTMLModel",
          "state": {
            "_view_name": "HTMLView",
            "style": "IPY_MODEL_26e4b6c315eb447a86e7c50fa4992157",
            "_dom_classes": [],
            "description": "",
            "_model_name": "HTMLModel",
            "placeholder": "​",
            "_view_module": "@jupyter-widgets/controls",
            "_model_module_version": "1.5.0",
            "value": " 10000/0 [00:06&lt;00:00, 1487.08 examples/s]",
            "_view_count": null,
            "_view_module_version": "1.5.0",
            "description_tooltip": null,
            "_model_module": "@jupyter-widgets/controls",
            "layout": "IPY_MODEL_f5ab517f323648878e9bb425fc932f63"
          }
        },
        "ea84f0c52042492e87d8366a46d357f1": {
          "model_module": "@jupyter-widgets/controls",
          "model_name": "ProgressStyleModel",
          "state": {
            "_view_name": "StyleView",
            "_model_name": "ProgressStyleModel",
            "description_width": "initial",
            "_view_module": "@jupyter-widgets/base",
            "_model_module_version": "1.5.0",
            "_view_count": null,
            "_view_module_version": "1.2.0",
            "bar_color": null,
            "_model_module": "@jupyter-widgets/controls"
          }
        },
        "f6b4d895cd9849b5a028487e6ab00d30": {
          "model_module": "@jupyter-widgets/base",
          "model_name": "LayoutModel",
          "state": {
            "_view_name": "LayoutView",
            "grid_template_rows": null,
            "right": null,
            "justify_content": null,
            "_view_module": "@jupyter-widgets/base",
            "overflow": null,
            "_model_module_version": "1.2.0",
            "_view_count": null,
            "flex_flow": null,
            "width": null,
            "min_width": null,
            "border": null,
            "align_items": null,
            "bottom": null,
            "_model_module": "@jupyter-widgets/base",
            "top": null,
            "grid_column": null,
            "overflow_y": null,
            "overflow_x": null,
            "grid_auto_flow": null,
            "grid_area": null,
            "grid_template_columns": null,
            "flex": null,
            "_model_name": "LayoutModel",
            "justify_items": null,
            "grid_row": null,
            "max_height": null,
            "align_content": null,
            "visibility": null,
            "align_self": null,
            "height": null,
            "min_height": null,
            "padding": null,
            "grid_auto_rows": null,
            "grid_gap": null,
            "max_width": null,
            "order": null,
            "_view_module_version": "1.2.0",
            "grid_template_areas": null,
            "object_position": null,
            "object_fit": null,
            "grid_auto_columns": null,
            "margin": null,
            "display": null,
            "left": null
          }
        },
        "26e4b6c315eb447a86e7c50fa4992157": {
          "model_module": "@jupyter-widgets/controls",
          "model_name": "DescriptionStyleModel",
          "state": {
            "_view_name": "StyleView",
            "_model_name": "DescriptionStyleModel",
            "description_width": "",
            "_view_module": "@jupyter-widgets/base",
            "_model_module_version": "1.5.0",
            "_view_count": null,
            "_view_module_version": "1.2.0",
            "_model_module": "@jupyter-widgets/controls"
          }
        },
        "f5ab517f323648878e9bb425fc932f63": {
          "model_module": "@jupyter-widgets/base",
          "model_name": "LayoutModel",
          "state": {
            "_view_name": "LayoutView",
            "grid_template_rows": null,
            "right": null,
            "justify_content": null,
            "_view_module": "@jupyter-widgets/base",
            "overflow": null,
            "_model_module_version": "1.2.0",
            "_view_count": null,
            "flex_flow": null,
            "width": null,
            "min_width": null,
            "border": null,
            "align_items": null,
            "bottom": null,
            "_model_module": "@jupyter-widgets/base",
            "top": null,
            "grid_column": null,
            "overflow_y": null,
            "overflow_x": null,
            "grid_auto_flow": null,
            "grid_area": null,
            "grid_template_columns": null,
            "flex": null,
            "_model_name": "LayoutModel",
            "justify_items": null,
            "grid_row": null,
            "max_height": null,
            "align_content": null,
            "visibility": null,
            "align_self": null,
            "height": null,
            "min_height": null,
            "padding": null,
            "grid_auto_rows": null,
            "grid_gap": null,
            "max_width": null,
            "order": null,
            "_view_module_version": "1.2.0",
            "grid_template_areas": null,
            "object_position": null,
            "object_fit": null,
            "grid_auto_columns": null,
            "margin": null,
            "display": null,
            "left": null
          }
        },
        "e1e783578d5c480e90a4502c4dcd6ff5": {
          "model_module": "@jupyter-widgets/controls",
          "model_name": "HBoxModel",
          "state": {
            "_view_name": "HBoxView",
            "_dom_classes": [],
            "_model_name": "HBoxModel",
            "_view_module": "@jupyter-widgets/controls",
            "_model_module_version": "1.5.0",
            "_view_count": null,
            "_view_module_version": "1.5.0",
            "box_style": "",
            "layout": "IPY_MODEL_5bb1a8137e0443a68a27b7f5cc66d2a4",
            "_model_module": "@jupyter-widgets/controls",
            "children": [
              "IPY_MODEL_ba195f407c3445678961455c358df343",
              "IPY_MODEL_e7467903553a45399dac6c7a09d1eae4"
            ]
          }
        },
        "5bb1a8137e0443a68a27b7f5cc66d2a4": {
          "model_module": "@jupyter-widgets/base",
          "model_name": "LayoutModel",
          "state": {
            "_view_name": "LayoutView",
            "grid_template_rows": null,
            "right": null,
            "justify_content": null,
            "_view_module": "@jupyter-widgets/base",
            "overflow": null,
            "_model_module_version": "1.2.0",
            "_view_count": null,
            "flex_flow": null,
            "width": null,
            "min_width": null,
            "border": null,
            "align_items": null,
            "bottom": null,
            "_model_module": "@jupyter-widgets/base",
            "top": null,
            "grid_column": null,
            "overflow_y": null,
            "overflow_x": null,
            "grid_auto_flow": null,
            "grid_area": null,
            "grid_template_columns": null,
            "flex": null,
            "_model_name": "LayoutModel",
            "justify_items": null,
            "grid_row": null,
            "max_height": null,
            "align_content": null,
            "visibility": null,
            "align_self": null,
            "height": null,
            "min_height": null,
            "padding": null,
            "grid_auto_rows": null,
            "grid_gap": null,
            "max_width": null,
            "order": null,
            "_view_module_version": "1.2.0",
            "grid_template_areas": null,
            "object_position": null,
            "object_fit": null,
            "grid_auto_columns": null,
            "margin": null,
            "display": null,
            "left": null
          }
        },
        "ba195f407c3445678961455c358df343": {
          "model_module": "@jupyter-widgets/controls",
          "model_name": "FloatProgressModel",
          "state": {
            "_view_name": "ProgressView",
            "style": "IPY_MODEL_ad80632ca81f4303adcffea2648fa689",
            "_dom_classes": [],
            "description": " 53%",
            "_model_name": "FloatProgressModel",
            "bar_style": "danger",
            "max": 10000,
            "_view_module": "@jupyter-widgets/controls",
            "_model_module_version": "1.5.0",
            "value": 5349,
            "_view_count": null,
            "_view_module_version": "1.5.0",
            "orientation": "horizontal",
            "min": 0,
            "description_tooltip": null,
            "_model_module": "@jupyter-widgets/controls",
            "layout": "IPY_MODEL_d925a012e5f34b31a86ef8dd40e2eeba"
          }
        },
        "e7467903553a45399dac6c7a09d1eae4": {
          "model_module": "@jupyter-widgets/controls",
          "model_name": "HTMLModel",
          "state": {
            "_view_name": "HTMLView",
            "style": "IPY_MODEL_da1b098cfeb0461fa1f3cd07794689fe",
            "_dom_classes": [],
            "description": "",
            "_model_name": "HTMLModel",
            "placeholder": "​",
            "_view_module": "@jupyter-widgets/controls",
            "_model_module_version": "1.5.0",
            "value": " 5349/10000 [00:00&lt;00:00, 53489.29 examples/s]",
            "_view_count": null,
            "_view_module_version": "1.5.0",
            "description_tooltip": null,
            "_model_module": "@jupyter-widgets/controls",
            "layout": "IPY_MODEL_8bb220a43d974232ad9ba94655483d08"
          }
        },
        "ad80632ca81f4303adcffea2648fa689": {
          "model_module": "@jupyter-widgets/controls",
          "model_name": "ProgressStyleModel",
          "state": {
            "_view_name": "StyleView",
            "_model_name": "ProgressStyleModel",
            "description_width": "initial",
            "_view_module": "@jupyter-widgets/base",
            "_model_module_version": "1.5.0",
            "_view_count": null,
            "_view_module_version": "1.2.0",
            "bar_color": null,
            "_model_module": "@jupyter-widgets/controls"
          }
        },
        "d925a012e5f34b31a86ef8dd40e2eeba": {
          "model_module": "@jupyter-widgets/base",
          "model_name": "LayoutModel",
          "state": {
            "_view_name": "LayoutView",
            "grid_template_rows": null,
            "right": null,
            "justify_content": null,
            "_view_module": "@jupyter-widgets/base",
            "overflow": null,
            "_model_module_version": "1.2.0",
            "_view_count": null,
            "flex_flow": null,
            "width": null,
            "min_width": null,
            "border": null,
            "align_items": null,
            "bottom": null,
            "_model_module": "@jupyter-widgets/base",
            "top": null,
            "grid_column": null,
            "overflow_y": null,
            "overflow_x": null,
            "grid_auto_flow": null,
            "grid_area": null,
            "grid_template_columns": null,
            "flex": null,
            "_model_name": "LayoutModel",
            "justify_items": null,
            "grid_row": null,
            "max_height": null,
            "align_content": null,
            "visibility": null,
            "align_self": null,
            "height": null,
            "min_height": null,
            "padding": null,
            "grid_auto_rows": null,
            "grid_gap": null,
            "max_width": null,
            "order": null,
            "_view_module_version": "1.2.0",
            "grid_template_areas": null,
            "object_position": null,
            "object_fit": null,
            "grid_auto_columns": null,
            "margin": null,
            "display": null,
            "left": null
          }
        },
        "da1b098cfeb0461fa1f3cd07794689fe": {
          "model_module": "@jupyter-widgets/controls",
          "model_name": "DescriptionStyleModel",
          "state": {
            "_view_name": "StyleView",
            "_model_name": "DescriptionStyleModel",
            "description_width": "",
            "_view_module": "@jupyter-widgets/base",
            "_model_module_version": "1.5.0",
            "_view_count": null,
            "_view_module_version": "1.2.0",
            "_model_module": "@jupyter-widgets/controls"
          }
        },
        "8bb220a43d974232ad9ba94655483d08": {
          "model_module": "@jupyter-widgets/base",
          "model_name": "LayoutModel",
          "state": {
            "_view_name": "LayoutView",
            "grid_template_rows": null,
            "right": null,
            "justify_content": null,
            "_view_module": "@jupyter-widgets/base",
            "overflow": null,
            "_model_module_version": "1.2.0",
            "_view_count": null,
            "flex_flow": null,
            "width": null,
            "min_width": null,
            "border": null,
            "align_items": null,
            "bottom": null,
            "_model_module": "@jupyter-widgets/base",
            "top": null,
            "grid_column": null,
            "overflow_y": null,
            "overflow_x": null,
            "grid_auto_flow": null,
            "grid_area": null,
            "grid_template_columns": null,
            "flex": null,
            "_model_name": "LayoutModel",
            "justify_items": null,
            "grid_row": null,
            "max_height": null,
            "align_content": null,
            "visibility": null,
            "align_self": null,
            "height": null,
            "min_height": null,
            "padding": null,
            "grid_auto_rows": null,
            "grid_gap": null,
            "max_width": null,
            "order": null,
            "_view_module_version": "1.2.0",
            "grid_template_areas": null,
            "object_position": null,
            "object_fit": null,
            "grid_auto_columns": null,
            "margin": null,
            "display": null,
            "left": null
          }
        }
      }
    }
  },
  "cells": [
    {
      "cell_type": "markdown",
      "metadata": {
        "id": "view-in-github",
        "colab_type": "text"
      },
      "source": [
        "<a href=\"https://colab.research.google.com/github/simon108018/Machine-Learning/blob/master/VGG16.ipynb\" target=\"_parent\"><img src=\"https://colab.research.google.com/assets/colab-badge.svg\" alt=\"Open In Colab\"/></a>"
      ]
    },
    {
      "cell_type": "code",
      "metadata": {
        "id": "KCKOw4Ilxd8B",
        "colab_type": "code",
        "colab": {
          "base_uri": "https://localhost:8080/",
          "height": 122
        },
        "outputId": "ba0e6f2f-dcab-4a06-dc5d-920a9f801c2f"
      },
      "source": [
        "from google.colab import drive\n",
        "drive.mount('/content/drive')"
      ],
      "execution_count": null,
      "outputs": [
        {
          "output_type": "stream",
          "text": [
            "Go to this URL in a browser: https://accounts.google.com/o/oauth2/auth?client_id=947318989803-6bn6qk8qdgf4n4g3pfee6491hc0brc4i.apps.googleusercontent.com&redirect_uri=urn%3aietf%3awg%3aoauth%3a2.0%3aoob&scope=email%20https%3a%2f%2fwww.googleapis.com%2fauth%2fdocs.test%20https%3a%2f%2fwww.googleapis.com%2fauth%2fdrive%20https%3a%2f%2fwww.googleapis.com%2fauth%2fdrive.photos.readonly%20https%3a%2f%2fwww.googleapis.com%2fauth%2fpeopleapi.readonly&response_type=code\n",
            "\n",
            "Enter your authorization code:\n",
            "··········\n",
            "Mounted at /content/drive\n"
          ],
          "name": "stdout"
        }
      ]
    },
    {
      "cell_type": "code",
      "metadata": {
        "id": "_x2F7B6zxTeY",
        "colab_type": "code",
        "colab": {}
      },
      "source": [
        "import os\n",
        "import tensorflow as tf\n",
        "import numpy as np\n",
        "import matplotlib.pyplot as plt\n",
        "from tensorflow import keras\n",
        "from tensorflow.keras import layers, initializers\n",
        "from tensorflow.keras.utils import plot_model\n",
        "from IPython.display import Image\n",
        "import tensorflow_datasets as tfds\n",
        "#tfds.list_builders()"
      ],
      "execution_count": null,
      "outputs": []
    },
    {
      "cell_type": "code",
      "metadata": {
        "id": "9JFsV3zlx7TP",
        "colab_type": "code",
        "colab": {}
      },
      "source": [
        "model_dir = '/content/drive/My Drive/Colab Notebooks/cifar10/models'\n",
        "model = tf.keras.models.load_model(model_dir + \"/Best-model-VGG16.h5\")"
      ],
      "execution_count": null,
      "outputs": []
    },
    {
      "cell_type": "code",
      "metadata": {
        "id": "LdacJAFZxTeg",
        "colab_type": "code",
        "colab": {
          "base_uri": "https://localhost:8080/",
          "height": 401,
          "referenced_widgets": [
            "a5a5d5eea02547dfaea551f47def27e8",
            "5c8768be05c845e8a65682cd5a254243",
            "c1daa5dd55f246b68961c5a427eddd1f",
            "511b5a3c8288462dabff854ca426aa96",
            "c1c858bec5b24c819f158e34cb13e05d",
            "f46d58e5092a421fbc59f2924b0e0f34",
            "4ecca140baa14912aadbbcfa2414ec5c",
            "746039663b31478890bf98e86d4ee957",
            "9f1f014550a94c4da2fded01c009e060",
            "6e73244c52a843b8aedebc2e5809664d",
            "95e2ac3362c04f2d9c12f48a38c5d616",
            "d7bb951687914e4da69abe54ea6cbebf",
            "6facc02f77d641b998634c90ccc7ee26",
            "f9d8cb0436bc4599a18aa41d5cd2442b",
            "93f517d72c34431b89fcf999a0340040",
            "4b76dac8d7ca46d181f6342d5050b7b6",
            "34b31914022a4f00bcc3ff586049d8d7",
            "3f95dba038d84ddd852eace0f5677908",
            "d4f5e577267b4a4991ac843f4d8e06c9",
            "279dfca4292b413dbf5bed49460e8294",
            "20d90af3eec449fc8cfffd56a3427f2e",
            "d8bc54662a244d5f858f40a87d510e60",
            "bf5ea4284fc649d59f3133020270409a",
            "770f63a9ae2441ec98f4ea8af85ea5c3",
            "393f466d8adf43d4a52654450fe1b811",
            "f7e0ab398bf64d75b31ecb11d245d2a6",
            "9832ef5c32374daa93c7e4b6c3def8fc",
            "7349d58c37d745ed8242f86045047081",
            "845e7a3a759747e197c452700ad0bbb7",
            "1e782f7b778841e9baa6e6390062f277",
            "827e5e98aed343979567d5bb5d4fb3a0",
            "2fdff80964444681bfd8ef85cdd8da55",
            "4ea5de3917a841f38a17a14d0dc6a774",
            "970b4ddd3ef14f29a467c581903ef26e",
            "4da770165748460da276bfd6174b3584",
            "b518b1bdbeee4aeca45fdcc59cf1a3da",
            "ac07145fc6204950964ad842d4a6f6fa",
            "f56d5b6e5e25463bb111c28aeb35ceea",
            "3dfa6614f3724585ad2ddf7600d2d504",
            "5168d8904f774940824bb5eba01d5108",
            "c56c96ce40a8401b99e6e777b30a57a5",
            "ce570f27375d4447bec0487faeb990c6",
            "e31c051357e745fcadcdfa385e7bb301",
            "49555b68a35346aa8d8cd35472e34f47",
            "ea84f0c52042492e87d8366a46d357f1",
            "f6b4d895cd9849b5a028487e6ab00d30",
            "26e4b6c315eb447a86e7c50fa4992157",
            "f5ab517f323648878e9bb425fc932f63",
            "e1e783578d5c480e90a4502c4dcd6ff5",
            "5bb1a8137e0443a68a27b7f5cc66d2a4",
            "ba195f407c3445678961455c358df343",
            "e7467903553a45399dac6c7a09d1eae4",
            "ad80632ca81f4303adcffea2648fa689",
            "d925a012e5f34b31a86ef8dd40e2eeba",
            "da1b098cfeb0461fa1f3cd07794689fe",
            "8bb220a43d974232ad9ba94655483d08"
          ]
        },
        "outputId": "c94c373a-acdb-4f94-ca3e-ba5d5639ec29"
      },
      "source": [
        "train_data, info = tfds.load(\"cifar10\", split=\"train[10%:]\", with_info = True)\n",
        "#print(info)\n",
        "valid_data = tfds.load(\"cifar10\", split=\"train[:10%]\")\n",
        "test_data = tfds.load(\"cifar10\", split=\"test\")"
      ],
      "execution_count": null,
      "outputs": [
        {
          "output_type": "stream",
          "text": [
            "\u001b[1mDownloading and preparing dataset cifar10/3.0.0 (download: 162.17 MiB, generated: Unknown size, total: 162.17 MiB) to /root/tensorflow_datasets/cifar10/3.0.0...\u001b[0m\n"
          ],
          "name": "stdout"
        },
        {
          "output_type": "display_data",
          "data": {
            "application/vnd.jupyter.widget-view+json": {
              "model_id": "a5a5d5eea02547dfaea551f47def27e8",
              "version_minor": 0,
              "version_major": 2
            },
            "text/plain": [
              "HBox(children=(FloatProgress(value=1.0, bar_style='info', description='Dl Completed...', max=1.0, style=Progre…"
            ]
          },
          "metadata": {
            "tags": []
          }
        },
        {
          "output_type": "display_data",
          "data": {
            "application/vnd.jupyter.widget-view+json": {
              "model_id": "9f1f014550a94c4da2fded01c009e060",
              "version_minor": 0,
              "version_major": 2
            },
            "text/plain": [
              "HBox(children=(FloatProgress(value=1.0, bar_style='info', description='Dl Size...', max=1.0, style=ProgressSty…"
            ]
          },
          "metadata": {
            "tags": []
          }
        },
        {
          "output_type": "display_data",
          "data": {
            "application/vnd.jupyter.widget-view+json": {
              "model_id": "34b31914022a4f00bcc3ff586049d8d7",
              "version_minor": 0,
              "version_major": 2
            },
            "text/plain": [
              "HBox(children=(FloatProgress(value=1.0, bar_style='info', description='Extraction completed...', max=1.0, styl…"
            ]
          },
          "metadata": {
            "tags": []
          }
        },
        {
          "output_type": "stream",
          "text": [
            "/usr/local/lib/python3.6/dist-packages/urllib3/connectionpool.py:847: InsecureRequestWarning: Unverified HTTPS request is being made. Adding certificate verification is strongly advised. See: https://urllib3.readthedocs.io/en/latest/advanced-usage.html#ssl-warnings\n",
            "  InsecureRequestWarning)\n"
          ],
          "name": "stderr"
        },
        {
          "output_type": "stream",
          "text": [
            "\n",
            "\n",
            "\n",
            "\n",
            "\n",
            "\n"
          ],
          "name": "stdout"
        },
        {
          "output_type": "display_data",
          "data": {
            "application/vnd.jupyter.widget-view+json": {
              "model_id": "393f466d8adf43d4a52654450fe1b811",
              "version_minor": 0,
              "version_major": 2
            },
            "text/plain": [
              "HBox(children=(FloatProgress(value=1.0, bar_style='info', max=1.0), HTML(value='')))"
            ]
          },
          "metadata": {
            "tags": []
          }
        },
        {
          "output_type": "stream",
          "text": [
            "\rShuffling and writing examples to /root/tensorflow_datasets/cifar10/3.0.0.incompleteR3Q3L8/cifar10-train.tfrecord\n"
          ],
          "name": "stdout"
        },
        {
          "output_type": "display_data",
          "data": {
            "application/vnd.jupyter.widget-view+json": {
              "model_id": "4ea5de3917a841f38a17a14d0dc6a774",
              "version_minor": 0,
              "version_major": 2
            },
            "text/plain": [
              "HBox(children=(FloatProgress(value=0.0, max=50000.0), HTML(value='')))"
            ]
          },
          "metadata": {
            "tags": []
          }
        },
        {
          "output_type": "stream",
          "text": [
            "\r"
          ],
          "name": "stdout"
        },
        {
          "output_type": "display_data",
          "data": {
            "application/vnd.jupyter.widget-view+json": {
              "model_id": "c56c96ce40a8401b99e6e777b30a57a5",
              "version_minor": 0,
              "version_major": 2
            },
            "text/plain": [
              "HBox(children=(FloatProgress(value=1.0, bar_style='info', max=1.0), HTML(value='')))"
            ]
          },
          "metadata": {
            "tags": []
          }
        },
        {
          "output_type": "stream",
          "text": [
            "\rShuffling and writing examples to /root/tensorflow_datasets/cifar10/3.0.0.incompleteR3Q3L8/cifar10-test.tfrecord\n"
          ],
          "name": "stdout"
        },
        {
          "output_type": "display_data",
          "data": {
            "application/vnd.jupyter.widget-view+json": {
              "model_id": "e1e783578d5c480e90a4502c4dcd6ff5",
              "version_minor": 0,
              "version_major": 2
            },
            "text/plain": [
              "HBox(children=(FloatProgress(value=0.0, max=10000.0), HTML(value='')))"
            ]
          },
          "metadata": {
            "tags": []
          }
        },
        {
          "output_type": "stream",
          "text": [
            "\u001b[1mDataset cifar10 downloaded and prepared to /root/tensorflow_datasets/cifar10/3.0.0. Subsequent calls will reuse this data.\u001b[0m\n"
          ],
          "name": "stdout"
        }
      ]
    },
    {
      "cell_type": "code",
      "metadata": {
        "id": "1Y2fs-m3xTel",
        "colab_type": "code",
        "colab": {}
      },
      "source": [
        "def parse_aug_fn(dataset):\n",
        "    def zoom(x, sh = 299, sw = 299):\n",
        "        x = tf.image.resize(x, (sh, sw))\n",
        "        return x\n",
        "    \n",
        "    # 影像標準化\n",
        "    x = tf.cast(dataset['image'], tf.float32) / 255.\n",
        "    # 影像放大到224*224\n",
        "    x = zoom(x)\n",
        "    y = tf.one_hot(dataset['label'], 10)\n",
        "    y = y\n",
        "    \n",
        "    return x, y"
      ],
      "execution_count": null,
      "outputs": []
    },
    {
      "cell_type": "code",
      "metadata": {
        "id": "ZFcM3Wr1xTeq",
        "colab_type": "code",
        "colab": {}
      },
      "source": [
        "AUTOTUNE = tf.data.experimental.AUTOTUNE\n",
        "batch_size = 32\n",
        "train_num = int(info.splits[\"train\"].num_examples/10)*9\n",
        "train_data = train_data.shuffle(train_num)\n",
        "train_data = train_data.map(map_func=parse_aug_fn, num_parallel_calls=AUTOTUNE)\n",
        "train_data = train_data.batch(batch_size).prefetch(buffer_size=AUTOTUNE)\n",
        "\n",
        "valid_data = valid_data.map(map_func=parse_aug_fn, num_parallel_calls=AUTOTUNE)\n",
        "valid_data = valid_data.batch(batch_size).prefetch(buffer_size=AUTOTUNE)\n",
        "\n",
        "test_data = test_data.map(map_func=parse_aug_fn, num_parallel_calls=AUTOTUNE)\n",
        "test_data = test_data.batch(batch_size).prefetch(buffer_size=AUTOTUNE)\n"
      ],
      "execution_count": null,
      "outputs": []
    },
    {
      "cell_type": "code",
      "metadata": {
        "id": "yUC-O09vxTeu",
        "colab_type": "code",
        "colab": {},
        "outputId": "d0d71b28-7fa6-427e-ee56-f4e4f1b9089b"
      },
      "source": [
        "#模型儲存目錄\n",
        "model_dir = 'cifar10/models'\n",
        "if os.path.isdir(model_dir):\n",
        "    print(\"已存在路徑「{}」\".format(model_dir))\n",
        "else:\n",
        "    print(\"已建立路徑「{}」\".format(model_dir))\n",
        "    os.makedirs(model_dir)"
      ],
      "execution_count": null,
      "outputs": [
        {
          "output_type": "stream",
          "text": [
            "已建立路徑「cifar10/models」\n"
          ],
          "name": "stdout"
        }
      ]
    },
    {
      "cell_type": "code",
      "metadata": {
        "id": "qWSMcMwdxTe0",
        "colab_type": "code",
        "colab": {}
      },
      "source": [
        "#回調函數\n",
        "log_dir = os.path.join('cifar10','VGG16')\n",
        "model_cbk = keras.callbacks.TensorBoard(log_dir=log_dir)\n",
        "model_mckp = keras.callbacks.ModelCheckpoint(model_dir + '/Best-model-VGG16.h5', \n",
        "                                             monitor='val_categorical_accuracy', \n",
        "                                             save_best_only=True, \n",
        "                                             mode='max')\n",
        "# 設定停止訓練的條件(當Accuracy超過30迭代沒有上升的話訓練會終止)\n",
        "model_esp = keras.callbacks.EarlyStopping(monitor='val_categorical_accuracy', patience=30)"
      ],
      "execution_count": null,
      "outputs": []
    },
    {
      "cell_type": "code",
      "metadata": {
        "id": "5RU5WWRKxTe9",
        "colab_type": "code",
        "colab": {}
      },
      "source": [
        "input_shape = (299, 299)\n",
        "base_model = tf.keras.applications.VGG16(include_top = False,\n",
        "                                              weights=\"imagenet\",\n",
        "                                              pooling='avg',\n",
        "                                              input_shape=input_shape+(3,)\n",
        "                                              )\n",
        "model=tf.keras.Sequential([\n",
        "    base_model,\n",
        "    layers.Dense(128,activation='relu', kernel_initializer = initializers.he_normal()),\n",
        "    layers.Dense(128,activation='relu', kernel_initializer = initializers.he_normal()),\n",
        "    layers.Dense(10,activation='softmax', kernel_initializer = initializers.he_normal())\n",
        "])"
      ],
      "execution_count": null,
      "outputs": []
    },
    {
      "cell_type": "code",
      "metadata": {
        "id": "UNACfr5TxTfD",
        "colab_type": "code",
        "colab": {}
      },
      "source": [
        "for layer in model.layers:\n",
        "    layer.trainable = False\n",
        "# 或者使用如下方法冻结所有层\n",
        "# model.trainable = False \n",
        "model.layers[-1].trainable = True\n",
        "model.layers[-2].trainable = True\n",
        "model.layers[-3].trainable = True"
      ],
      "execution_count": null,
      "outputs": []
    },
    {
      "cell_type": "code",
      "metadata": {
        "id": "0WUs-mLtxTfI",
        "colab_type": "code",
        "colab": {
          "base_uri": "https://localhost:8080/",
          "height": 466
        },
        "outputId": "5819bd7c-7d89-4bc6-ea6f-b02f1f7bd3d3"
      },
      "source": [
        "plot_model(model)"
      ],
      "execution_count": null,
      "outputs": [
        {
          "output_type": "execute_result",
          "data": {
            "image/png": "[encoded data removed]",
            "text/plain": [
              "<IPython.core.display.Image object>"
            ]
          },
          "metadata": {
            "tags": []
          },
          "execution_count": 7
        }
      ]
    },
    {
      "cell_type": "code",
      "metadata": {
        "id": "6ojDoiMExTfN",
        "colab_type": "code",
        "colab": {},
        "outputId": "3c52b6e7-fef7-456e-d6b4-c880976b7f6d"
      },
      "source": [
        "for x in model.trainable_weights:\n",
        "    print(x.name)"
      ],
      "execution_count": null,
      "outputs": [
        {
          "output_type": "stream",
          "text": [
            "dense/kernel:0\n",
            "dense/bias:0\n",
            "dense_1/kernel:0\n",
            "dense_1/bias:0\n",
            "dense_2/kernel:0\n",
            "dense_2/bias:0\n"
          ],
          "name": "stdout"
        }
      ]
    },
    {
      "cell_type": "code",
      "metadata": {
        "id": "L-3mIuHqxTfR",
        "colab_type": "code",
        "colab": {}
      },
      "source": [
        "#優化器、損失函數，指標函數\n",
        "model.compile(keras.optimizers.Adam(),\n",
        "              loss=keras.losses.CategoricalCrossentropy(),\n",
        "              metrics=[keras.metrics.CategoricalAccuracy()])"
      ],
      "execution_count": null,
      "outputs": []
    },
    {
      "cell_type": "code",
      "metadata": {
        "id": "GV1BNGsgxTfV",
        "colab_type": "code",
        "colab": {
          "base_uri": "https://localhost:8080/",
          "height": 289
        },
        "outputId": "7fc4f103-a568-4fb2-fe40-e3fd660cf159"
      },
      "source": [
        "model.summary()"
      ],
      "execution_count": null,
      "outputs": [
        {
          "output_type": "stream",
          "text": [
            "Model: \"sequential\"\n",
            "_________________________________________________________________\n",
            "Layer (type)                 Output Shape              Param #   \n",
            "=================================================================\n",
            "vgg16 (Functional)           (None, 512)               14714688  \n",
            "_________________________________________________________________\n",
            "dense (Dense)                (None, 128)               65664     \n",
            "_________________________________________________________________\n",
            "dense_1 (Dense)              (None, 128)               16512     \n",
            "_________________________________________________________________\n",
            "dense_2 (Dense)              (None, 10)                1290      \n",
            "=================================================================\n",
            "Total params: 14,798,154\n",
            "Trainable params: 83,466\n",
            "Non-trainable params: 14,714,688\n",
            "_________________________________________________________________\n"
          ],
          "name": "stdout"
        }
      ]
    },
    {
      "cell_type": "code",
      "metadata": {
        "id": "H1uJ6WGaxTfZ",
        "colab_type": "code",
        "colab": {},
        "outputId": "29761d3a-8a99-416d-d8a7-9787ee30fd98"
      },
      "source": [
        "history = model.fit(train_data,\n",
        "                   epochs=200,\n",
        "                   validation_data = valid_data,\n",
        "                   callbacks=[model_cbk, model_mckp, model_esp])"
      ],
      "execution_count": null,
      "outputs": [
        {
          "output_type": "stream",
          "text": [
            "Epoch 1/200\n",
            "1407/1407 [==============================] - 702s 499ms/step - loss: 1.6933 - categorical_accuracy: 0.3797 - val_loss: 0.0000e+00 - val_categorical_accuracy: 0.0000e+00\n",
            "Epoch 2/200\n",
            "1407/1407 [==============================] - 708s 503ms/step - loss: 1.4141 - categorical_accuracy: 0.4891 - val_loss: 1.3362 - val_categorical_accuracy: 0.5266\n",
            "Epoch 3/200\n",
            "1407/1407 [==============================] - 703s 500ms/step - loss: 1.3209 - categorical_accuracy: 0.5274 - val_loss: 1.3307 - val_categorical_accuracy: 0.5042\n",
            "Epoch 4/200\n",
            "1407/1407 [==============================] - 686s 488ms/step - loss: 1.2683 - categorical_accuracy: 0.5489 - val_loss: 1.2791 - val_categorical_accuracy: 0.5504\n",
            "Epoch 5/200\n",
            "1407/1407 [==============================] - 710s 504ms/step - loss: 1.2279 - categorical_accuracy: 0.5623 - val_loss: 1.2190 - val_categorical_accuracy: 0.5766\n",
            "Epoch 6/200\n",
            "1407/1407 [==============================] - 806s 573ms/step - loss: 1.1953 - categorical_accuracy: 0.5724 - val_loss: 1.1823 - val_categorical_accuracy: 0.5732\n",
            "Epoch 7/200\n",
            "1407/1407 [==============================] - 808s 574ms/step - loss: 1.1725 - categorical_accuracy: 0.5815 - val_loss: 1.2475 - val_categorical_accuracy: 0.5584\n",
            "Epoch 8/200\n",
            "1407/1407 [==============================] - 811s 576ms/step - loss: 1.1514 - categorical_accuracy: 0.5889 - val_loss: 1.1835 - val_categorical_accuracy: 0.5904\n",
            "Epoch 9/200\n",
            "1407/1407 [==============================] - 725s 516ms/step - loss: 1.1308 - categorical_accuracy: 0.5980 - val_loss: 1.1329 - val_categorical_accuracy: 0.5988\n",
            "Epoch 10/200\n",
            "1407/1407 [==============================] - 732s 520ms/step - loss: 1.1178 - categorical_accuracy: 0.6032 - val_loss: 1.1198 - val_categorical_accuracy: 0.6088\n",
            "Epoch 11/200\n",
            "1407/1407 [==============================] - 732s 520ms/step - loss: 1.1052 - categorical_accuracy: 0.6062 - val_loss: 1.0884 - val_categorical_accuracy: 0.6170\n",
            "Epoch 12/200\n",
            "1407/1407 [==============================] - 724s 515ms/step - loss: 1.0909 - categorical_accuracy: 0.6118 - val_loss: 1.0818 - val_categorical_accuracy: 0.6230\n",
            "Epoch 13/200\n",
            "1407/1407 [==============================] - 684s 486ms/step - loss: 1.0811 - categorical_accuracy: 0.6158 - val_loss: 1.1709 - val_categorical_accuracy: 0.5832\n",
            "Epoch 14/200\n",
            "1407/1407 [==============================] - 682s 485ms/step - loss: 1.0736 - categorical_accuracy: 0.6183 - val_loss: 1.0832 - val_categorical_accuracy: 0.6230\n",
            "Epoch 15/200\n",
            "1407/1407 [==============================] - 682s 485ms/step - loss: 1.0653 - categorical_accuracy: 0.6225 - val_loss: 1.0546 - val_categorical_accuracy: 0.6298\n",
            "Epoch 16/200\n",
            "1407/1407 [==============================] - 682s 484ms/step - loss: 1.0601 - categorical_accuracy: 0.6230 - val_loss: 1.0846 - val_categorical_accuracy: 0.6176\n",
            "Epoch 17/200\n",
            "1407/1407 [==============================] - 681s 484ms/step - loss: 1.0390 - categorical_accuracy: 0.6289 - val_loss: 1.0779 - val_categorical_accuracy: 0.6214\n",
            "Epoch 18/200\n",
            "1407/1407 [==============================] - 682s 484ms/step - loss: 1.0380 - categorical_accuracy: 0.6330 - val_loss: 1.0997 - val_categorical_accuracy: 0.6112\n",
            "Epoch 19/200\n",
            "1407/1407 [==============================] - 682s 485ms/step - loss: 1.0344 - categorical_accuracy: 0.6344 - val_loss: 1.0399 - val_categorical_accuracy: 0.6392\n",
            "Epoch 20/200\n",
            "1407/1407 [==============================] - 681s 484ms/step - loss: 1.0259 - categorical_accuracy: 0.6362 - val_loss: 1.0788 - val_categorical_accuracy: 0.6248\n",
            "Epoch 21/200\n",
            "1407/1407 [==============================] - 682s 484ms/step - loss: 1.0191 - categorical_accuracy: 0.6395 - val_loss: 1.1013 - val_categorical_accuracy: 0.6098\n",
            "Epoch 22/200\n",
            "1407/1407 [==============================] - 682s 485ms/step - loss: 1.0181 - categorical_accuracy: 0.6389 - val_loss: 1.0674 - val_categorical_accuracy: 0.6256\n",
            "Epoch 23/200\n",
            "1407/1407 [==============================] - 682s 485ms/step - loss: 1.0116 - categorical_accuracy: 0.6424 - val_loss: 1.0295 - val_categorical_accuracy: 0.6384\n",
            "Epoch 24/200\n",
            "1407/1407 [==============================] - 682s 485ms/step - loss: 1.0034 - categorical_accuracy: 0.6446 - val_loss: 1.0645 - val_categorical_accuracy: 0.6402\n",
            "Epoch 25/200\n",
            "1407/1407 [==============================] - 683s 485ms/step - loss: 0.9990 - categorical_accuracy: 0.6466 - val_loss: 1.0463 - val_categorical_accuracy: 0.6312\n",
            "Epoch 26/200\n",
            "1407/1407 [==============================] - 683s 485ms/step - loss: 0.9901 - categorical_accuracy: 0.6479 - val_loss: 1.0201 - val_categorical_accuracy: 0.6434\n",
            "Epoch 27/200\n",
            "1407/1407 [==============================] - 683s 485ms/step - loss: 0.9915 - categorical_accuracy: 0.6483 - val_loss: 1.0458 - val_categorical_accuracy: 0.6384\n",
            "Epoch 28/200\n",
            "1407/1407 [==============================] - 683s 485ms/step - loss: 0.9773 - categorical_accuracy: 0.6523 - val_loss: 1.0021 - val_categorical_accuracy: 0.6508\n",
            "Epoch 29/200\n",
            "1407/1407 [==============================] - 683s 485ms/step - loss: 0.9734 - categorical_accuracy: 0.6561 - val_loss: 1.0534 - val_categorical_accuracy: 0.6254\n",
            "Epoch 30/200\n",
            "1407/1407 [==============================] - 683s 485ms/step - loss: 0.9719 - categorical_accuracy: 0.6574 - val_loss: 1.0577 - val_categorical_accuracy: 0.6268\n",
            "Epoch 31/200\n",
            "1407/1407 [==============================] - 683s 485ms/step - loss: 0.9742 - categorical_accuracy: 0.6549 - val_loss: 1.0428 - val_categorical_accuracy: 0.6304\n",
            "Epoch 32/200\n",
            "1407/1407 [==============================] - 683s 485ms/step - loss: 0.9634 - categorical_accuracy: 0.6603 - val_loss: 0.9949 - val_categorical_accuracy: 0.6560\n",
            "Epoch 33/200\n",
            "1407/1407 [==============================] - 683s 485ms/step - loss: 0.9597 - categorical_accuracy: 0.6615 - val_loss: 1.0323 - val_categorical_accuracy: 0.6424\n",
            "Epoch 34/200\n",
            "1407/1407 [==============================] - 683s 485ms/step - loss: 0.9510 - categorical_accuracy: 0.6628 - val_loss: 1.0666 - val_categorical_accuracy: 0.6218\n",
            "Epoch 35/200\n",
            "1407/1407 [==============================] - 683s 485ms/step - loss: 0.9471 - categorical_accuracy: 0.6634 - val_loss: 1.0737 - val_categorical_accuracy: 0.6350\n",
            "Epoch 36/200\n",
            "1407/1407 [==============================] - 682s 485ms/step - loss: 0.9493 - categorical_accuracy: 0.6644 - val_loss: 1.0122 - val_categorical_accuracy: 0.6472\n",
            "Epoch 37/200\n",
            "1407/1407 [==============================] - 683s 485ms/step - loss: 0.9431 - categorical_accuracy: 0.6676 - val_loss: 1.1143 - val_categorical_accuracy: 0.6166\n",
            "Epoch 38/200\n",
            "1407/1407 [==============================] - 683s 485ms/step - loss: 0.9425 - categorical_accuracy: 0.6680 - val_loss: 1.0467 - val_categorical_accuracy: 0.6356\n",
            "Epoch 39/200\n",
            "1407/1407 [==============================] - 683s 485ms/step - loss: 0.9329 - categorical_accuracy: 0.6707 - val_loss: 1.0287 - val_categorical_accuracy: 0.6446\n",
            "Epoch 40/200\n",
            "1407/1407 [==============================] - 690s 491ms/step - loss: 0.9324 - categorical_accuracy: 0.6681 - val_loss: 1.0084 - val_categorical_accuracy: 0.6514\n",
            "Epoch 41/200\n",
            "1407/1407 [==============================] - 680s 483ms/step - loss: 0.9247 - categorical_accuracy: 0.6729 - val_loss: 1.0179 - val_categorical_accuracy: 0.6478\n",
            "Epoch 42/200\n",
            "1407/1407 [==============================] - 680s 483ms/step - loss: 0.9244 - categorical_accuracy: 0.6746 - val_loss: 1.0262 - val_categorical_accuracy: 0.6464\n",
            "Epoch 43/200\n",
            "1407/1407 [==============================] - 679s 483ms/step - loss: 0.9198 - categorical_accuracy: 0.6739 - val_loss: 0.9787 - val_categorical_accuracy: 0.6654\n",
            "Epoch 44/200\n",
            "1407/1407 [==============================] - 679s 483ms/step - loss: 0.9162 - categorical_accuracy: 0.6740 - val_loss: 1.0211 - val_categorical_accuracy: 0.6414\n",
            "Epoch 45/200\n",
            "1407/1407 [==============================] - 680s 483ms/step - loss: 0.9137 - categorical_accuracy: 0.6743 - val_loss: 1.0558 - val_categorical_accuracy: 0.6358\n",
            "Epoch 46/200\n",
            "1407/1407 [==============================] - 679s 483ms/step - loss: 0.9046 - categorical_accuracy: 0.6764 - val_loss: 0.9863 - val_categorical_accuracy: 0.6630\n",
            "Epoch 47/200\n",
            "1407/1407 [==============================] - 679s 483ms/step - loss: 0.9022 - categorical_accuracy: 0.6800 - val_loss: 1.0165 - val_categorical_accuracy: 0.6550\n",
            "Epoch 48/200\n",
            "1407/1407 [==============================] - 679s 483ms/step - loss: 0.9038 - categorical_accuracy: 0.6775 - val_loss: 1.1094 - val_categorical_accuracy: 0.6162\n",
            "Epoch 49/200\n",
            "1407/1407 [==============================] - 679s 483ms/step - loss: 0.9005 - categorical_accuracy: 0.6814 - val_loss: 0.9844 - val_categorical_accuracy: 0.6694\n",
            "Epoch 50/200\n",
            "1407/1407 [==============================] - 679s 483ms/step - loss: 0.8989 - categorical_accuracy: 0.6800 - val_loss: 1.0252 - val_categorical_accuracy: 0.6466\n",
            "Epoch 51/200\n",
            "1407/1407 [==============================] - 679s 483ms/step - loss: 0.8925 - categorical_accuracy: 0.6862 - val_loss: 1.0489 - val_categorical_accuracy: 0.6350\n",
            "Epoch 52/200\n",
            "1407/1407 [==============================] - 679s 483ms/step - loss: 0.8942 - categorical_accuracy: 0.6836 - val_loss: 1.0304 - val_categorical_accuracy: 0.6420\n",
            "Epoch 53/200\n",
            "1407/1407 [==============================] - 679s 483ms/step - loss: 0.8893 - categorical_accuracy: 0.6845 - val_loss: 0.9911 - val_categorical_accuracy: 0.6548\n",
            "Epoch 54/200\n",
            "1407/1407 [==============================] - 679s 483ms/step - loss: 0.8828 - categorical_accuracy: 0.6850 - val_loss: 0.9873 - val_categorical_accuracy: 0.6696\n",
            "Epoch 55/200\n",
            "1407/1407 [==============================] - 679s 483ms/step - loss: 0.8817 - categorical_accuracy: 0.6866 - val_loss: 1.0522 - val_categorical_accuracy: 0.6438\n",
            "Epoch 56/200\n",
            "1407/1407 [==============================] - 679s 482ms/step - loss: 0.8789 - categorical_accuracy: 0.6907 - val_loss: 1.0083 - val_categorical_accuracy: 0.6510\n",
            "Epoch 57/200\n",
            "1407/1407 [==============================] - 679s 483ms/step - loss: 0.8761 - categorical_accuracy: 0.6897 - val_loss: 1.0450 - val_categorical_accuracy: 0.6374\n",
            "Epoch 58/200\n",
            "1407/1407 [==============================] - 679s 482ms/step - loss: 0.8717 - categorical_accuracy: 0.6909 - val_loss: 1.0022 - val_categorical_accuracy: 0.6560\n",
            "Epoch 59/200\n",
            "1407/1407 [==============================] - 679s 482ms/step - loss: 0.8661 - categorical_accuracy: 0.6925 - val_loss: 1.0095 - val_categorical_accuracy: 0.6558\n",
            "Epoch 60/200\n",
            "1407/1407 [==============================] - 679s 482ms/step - loss: 0.8623 - categorical_accuracy: 0.6927 - val_loss: 0.9858 - val_categorical_accuracy: 0.6674\n",
            "Epoch 61/200\n",
            "1407/1407 [==============================] - 679s 482ms/step - loss: 0.8536 - categorical_accuracy: 0.6969 - val_loss: 0.9916 - val_categorical_accuracy: 0.6578\n",
            "Epoch 62/200\n",
            "1407/1407 [==============================] - 679s 482ms/step - loss: 0.8605 - categorical_accuracy: 0.6929 - val_loss: 0.9788 - val_categorical_accuracy: 0.6688\n",
            "Epoch 63/200\n",
            "1407/1407 [==============================] - 678s 482ms/step - loss: 0.8586 - categorical_accuracy: 0.6943 - val_loss: 1.0023 - val_categorical_accuracy: 0.6598\n",
            "Epoch 64/200\n",
            "1407/1407 [==============================] - 678s 482ms/step - loss: 0.8551 - categorical_accuracy: 0.6981 - val_loss: 0.9926 - val_categorical_accuracy: 0.6582\n",
            "Epoch 65/200\n",
            "1407/1407 [==============================] - 678s 482ms/step - loss: 0.8540 - categorical_accuracy: 0.6973 - val_loss: 1.0266 - val_categorical_accuracy: 0.6438\n",
            "Epoch 66/200\n",
            "1407/1407 [==============================] - 679s 482ms/step - loss: 0.8484 - categorical_accuracy: 0.6997 - val_loss: 1.0166 - val_categorical_accuracy: 0.6490\n",
            "Epoch 67/200\n",
            "1407/1407 [==============================] - 679s 482ms/step - loss: 0.8450 - categorical_accuracy: 0.7007 - val_loss: 0.9911 - val_categorical_accuracy: 0.6622\n",
            "Epoch 68/200\n",
            "1407/1407 [==============================] - 679s 483ms/step - loss: 0.8415 - categorical_accuracy: 0.7017 - val_loss: 1.0569 - val_categorical_accuracy: 0.6464\n",
            "Epoch 69/200\n",
            "1407/1407 [==============================] - 679s 483ms/step - loss: 0.8441 - categorical_accuracy: 0.6999 - val_loss: 1.0251 - val_categorical_accuracy: 0.6486\n",
            "Epoch 70/200\n",
            "1407/1407 [==============================] - 679s 483ms/step - loss: 0.8343 - categorical_accuracy: 0.7038 - val_loss: 1.0511 - val_categorical_accuracy: 0.6364\n",
            "Epoch 71/200\n",
            "1407/1407 [==============================] - 679s 483ms/step - loss: 0.8367 - categorical_accuracy: 0.7049 - val_loss: 1.0032 - val_categorical_accuracy: 0.6574\n",
            "Epoch 72/200\n",
            "1407/1407 [==============================] - 679s 483ms/step - loss: 0.8308 - categorical_accuracy: 0.7029 - val_loss: 1.0297 - val_categorical_accuracy: 0.6488\n",
            "Epoch 73/200\n",
            "1407/1407 [==============================] - 680s 483ms/step - loss: 0.8267 - categorical_accuracy: 0.7050 - val_loss: 0.9980 - val_categorical_accuracy: 0.6618\n",
            "Epoch 74/200\n",
            "1407/1407 [==============================] - 679s 483ms/step - loss: 0.8288 - categorical_accuracy: 0.7044 - val_loss: 0.9796 - val_categorical_accuracy: 0.6676\n",
            "Epoch 75/200\n",
            "1407/1407 [==============================] - 679s 483ms/step - loss: 0.8231 - categorical_accuracy: 0.7074 - val_loss: 0.9890 - val_categorical_accuracy: 0.6658\n",
            "Epoch 76/200\n",
            "1407/1407 [==============================] - 679s 483ms/step - loss: 0.8220 - categorical_accuracy: 0.7068 - val_loss: 1.0244 - val_categorical_accuracy: 0.6510\n",
            "Epoch 77/200\n",
            "1407/1407 [==============================] - 679s 483ms/step - loss: 0.8195 - categorical_accuracy: 0.7080 - val_loss: 1.0245 - val_categorical_accuracy: 0.6426\n",
            "Epoch 78/200\n",
            "1407/1407 [==============================] - 679s 483ms/step - loss: 0.8189 - categorical_accuracy: 0.7074 - val_loss: 1.0051 - val_categorical_accuracy: 0.6628\n",
            "Epoch 79/200\n",
            "1407/1407 [==============================] - 679s 483ms/step - loss: 0.8148 - categorical_accuracy: 0.7087 - val_loss: 1.0514 - val_categorical_accuracy: 0.6416\n",
            "Epoch 80/200\n",
            "1407/1407 [==============================] - 679s 483ms/step - loss: 0.8159 - categorical_accuracy: 0.7095 - val_loss: 1.0584 - val_categorical_accuracy: 0.6488\n",
            "Epoch 81/200\n",
            "1407/1407 [==============================] - 680s 483ms/step - loss: 0.8121 - categorical_accuracy: 0.7127 - val_loss: 0.9764 - val_categorical_accuracy: 0.6718\n",
            "Epoch 82/200\n",
            "1407/1407 [==============================] - 679s 483ms/step - loss: 0.8123 - categorical_accuracy: 0.7130 - val_loss: 0.9838 - val_categorical_accuracy: 0.6642\n",
            "Epoch 83/200\n",
            "1407/1407 [==============================] - 679s 483ms/step - loss: 0.8055 - categorical_accuracy: 0.7146 - val_loss: 1.0111 - val_categorical_accuracy: 0.6574\n",
            "Epoch 84/200\n",
            "1407/1407 [==============================] - 680s 483ms/step - loss: 0.8054 - categorical_accuracy: 0.7133 - val_loss: 1.0028 - val_categorical_accuracy: 0.6586\n",
            "Epoch 85/200\n",
            "1407/1407 [==============================] - 682s 485ms/step - loss: 0.8000 - categorical_accuracy: 0.7164 - val_loss: 1.0496 - val_categorical_accuracy: 0.6406\n",
            "Epoch 86/200\n",
            "1407/1407 [==============================] - 682s 485ms/step - loss: 0.7976 - categorical_accuracy: 0.7165 - val_loss: 0.9896 - val_categorical_accuracy: 0.6692\n",
            "Epoch 87/200\n",
            "1407/1407 [==============================] - 683s 485ms/step - loss: 0.7956 - categorical_accuracy: 0.7159 - val_loss: 1.0002 - val_categorical_accuracy: 0.6658\n",
            "Epoch 88/200\n",
            "1407/1407 [==============================] - 688s 489ms/step - loss: 0.7992 - categorical_accuracy: 0.7160 - val_loss: 1.0177 - val_categorical_accuracy: 0.6548\n",
            "Epoch 89/200\n",
            "1407/1407 [==============================] - 690s 490ms/step - loss: 0.7875 - categorical_accuracy: 0.7197 - val_loss: 0.9837 - val_categorical_accuracy: 0.6730\n",
            "Epoch 90/200\n",
            "1407/1407 [==============================] - 689s 490ms/step - loss: 0.7883 - categorical_accuracy: 0.7205 - val_loss: 1.0290 - val_categorical_accuracy: 0.6538\n",
            "Epoch 91/200\n",
            "1407/1407 [==============================] - 687s 488ms/step - loss: 0.7855 - categorical_accuracy: 0.7206 - val_loss: 0.9970 - val_categorical_accuracy: 0.6674\n",
            "Epoch 92/200\n",
            "1407/1407 [==============================] - 689s 490ms/step - loss: 0.7834 - categorical_accuracy: 0.7216 - val_loss: 0.9890 - val_categorical_accuracy: 0.6662\n",
            "Epoch 93/200\n",
            "1407/1407 [==============================] - 687s 488ms/step - loss: 0.7828 - categorical_accuracy: 0.7200 - val_loss: 0.9764 - val_categorical_accuracy: 0.6752\n",
            "Epoch 94/200\n",
            "1407/1407 [==============================] - 687s 488ms/step - loss: 0.7778 - categorical_accuracy: 0.7200 - val_loss: 1.1113 - val_categorical_accuracy: 0.6336\n",
            "Epoch 95/200\n"
          ],
          "name": "stdout"
        },
        {
          "output_type": "stream",
          "text": [
            "1407/1407 [==============================] - 687s 488ms/step - loss: 0.7804 - categorical_accuracy: 0.7221 - val_loss: 1.0359 - val_categorical_accuracy: 0.6510\n",
            "Epoch 96/200\n",
            "1407/1407 [==============================] - 689s 490ms/step - loss: 0.7820 - categorical_accuracy: 0.7237 - val_loss: 1.0002 - val_categorical_accuracy: 0.6690\n",
            "Epoch 97/200\n",
            "1407/1407 [==============================] - 727s 517ms/step - loss: 0.7694 - categorical_accuracy: 0.7245 - val_loss: 1.0219 - val_categorical_accuracy: 0.6612\n",
            "Epoch 98/200\n",
            "1407/1407 [==============================] - 716s 509ms/step - loss: 0.7774 - categorical_accuracy: 0.7248 - val_loss: 1.0225 - val_categorical_accuracy: 0.6590\n",
            "Epoch 99/200\n",
            "1407/1407 [==============================] - 694s 493ms/step - loss: 0.7737 - categorical_accuracy: 0.7244 - val_loss: 0.9723 - val_categorical_accuracy: 0.6738\n",
            "Epoch 100/200\n",
            "1407/1407 [==============================] - 691s 491ms/step - loss: 0.7695 - categorical_accuracy: 0.7263 - val_loss: 1.0281 - val_categorical_accuracy: 0.6560\n",
            "Epoch 101/200\n",
            "1407/1407 [==============================] - 697s 495ms/step - loss: 0.7640 - categorical_accuracy: 0.7280 - val_loss: 0.9975 - val_categorical_accuracy: 0.6650\n",
            "Epoch 102/200\n",
            "1407/1407 [==============================] - 690s 491ms/step - loss: 0.7619 - categorical_accuracy: 0.7271 - val_loss: 0.9973 - val_categorical_accuracy: 0.6684\n",
            "Epoch 103/200\n",
            "1407/1407 [==============================] - 695s 494ms/step - loss: 0.7599 - categorical_accuracy: 0.7275 - val_loss: 1.0150 - val_categorical_accuracy: 0.6630\n",
            "Epoch 104/200\n",
            "1407/1407 [==============================] - 693s 492ms/step - loss: 0.7589 - categorical_accuracy: 0.7323 - val_loss: 1.0754 - val_categorical_accuracy: 0.6508\n",
            "Epoch 105/200\n",
            "1407/1407 [==============================] - 690s 491ms/step - loss: 0.7643 - categorical_accuracy: 0.7270 - val_loss: 1.0378 - val_categorical_accuracy: 0.6514\n",
            "Epoch 106/200\n",
            "1407/1407 [==============================] - 689s 490ms/step - loss: 0.7564 - categorical_accuracy: 0.7312 - val_loss: 1.0100 - val_categorical_accuracy: 0.6622\n",
            "Epoch 107/200\n",
            "1407/1407 [==============================] - 688s 489ms/step - loss: 0.7577 - categorical_accuracy: 0.7303 - val_loss: 1.0261 - val_categorical_accuracy: 0.6570\n",
            "Epoch 108/200\n",
            "1407/1407 [==============================] - 688s 489ms/step - loss: 0.7513 - categorical_accuracy: 0.7331 - val_loss: 1.0203 - val_categorical_accuracy: 0.6602\n",
            "Epoch 109/200\n",
            "1407/1407 [==============================] - 688s 489ms/step - loss: 0.7482 - categorical_accuracy: 0.7337 - val_loss: 1.0321 - val_categorical_accuracy: 0.6586\n",
            "Epoch 110/200\n",
            "1407/1407 [==============================] - 688s 489ms/step - loss: 0.7506 - categorical_accuracy: 0.7311 - val_loss: 1.0052 - val_categorical_accuracy: 0.6724\n",
            "Epoch 111/200\n",
            "1407/1407 [==============================] - 687s 489ms/step - loss: 0.7496 - categorical_accuracy: 0.7339 - val_loss: 1.0240 - val_categorical_accuracy: 0.6726\n",
            "Epoch 112/200\n",
            "1407/1407 [==============================] - 687s 488ms/step - loss: 0.7445 - categorical_accuracy: 0.7336 - val_loss: 1.0056 - val_categorical_accuracy: 0.6718\n",
            "Epoch 113/200\n",
            "1407/1407 [==============================] - 687s 488ms/step - loss: 0.7354 - categorical_accuracy: 0.7385 - val_loss: 1.0080 - val_categorical_accuracy: 0.6638\n",
            "Epoch 114/200\n",
            "1407/1407 [==============================] - 687s 488ms/step - loss: 0.7386 - categorical_accuracy: 0.7371 - val_loss: 1.0180 - val_categorical_accuracy: 0.6542\n",
            "Epoch 115/200\n",
            "1407/1407 [==============================] - 687s 488ms/step - loss: 0.7393 - categorical_accuracy: 0.7360 - val_loss: 1.0014 - val_categorical_accuracy: 0.6708\n",
            "Epoch 116/200\n",
            "1407/1407 [==============================] - 687s 488ms/step - loss: 0.7383 - categorical_accuracy: 0.7355 - val_loss: 1.0058 - val_categorical_accuracy: 0.6646\n",
            "Epoch 117/200\n",
            "1407/1407 [==============================] - 687s 488ms/step - loss: 0.7327 - categorical_accuracy: 0.7389 - val_loss: 1.0213 - val_categorical_accuracy: 0.6568\n",
            "Epoch 118/200\n",
            "1407/1407 [==============================] - 687s 488ms/step - loss: 0.7414 - categorical_accuracy: 0.7351 - val_loss: 1.0188 - val_categorical_accuracy: 0.6720\n",
            "Epoch 119/200\n",
            "1407/1407 [==============================] - 687s 488ms/step - loss: 0.7332 - categorical_accuracy: 0.7368 - val_loss: 1.0107 - val_categorical_accuracy: 0.6674\n",
            "Epoch 120/200\n",
            "1407/1407 [==============================] - 687s 488ms/step - loss: 0.7235 - categorical_accuracy: 0.7393 - val_loss: 1.0447 - val_categorical_accuracy: 0.6634\n",
            "Epoch 121/200\n",
            "1407/1407 [==============================] - 687s 488ms/step - loss: 0.7249 - categorical_accuracy: 0.7430 - val_loss: 1.0361 - val_categorical_accuracy: 0.6668\n",
            "Epoch 122/200\n",
            "1407/1407 [==============================] - 686s 488ms/step - loss: 0.7294 - categorical_accuracy: 0.7397 - val_loss: 1.0349 - val_categorical_accuracy: 0.6654\n",
            "Epoch 123/200\n",
            "1407/1407 [==============================] - 687s 488ms/step - loss: 0.7267 - categorical_accuracy: 0.7402 - val_loss: 1.0346 - val_categorical_accuracy: 0.6620\n"
          ],
          "name": "stdout"
        }
      ]
    },
    {
      "cell_type": "code",
      "metadata": {
        "id": "pU-fMvZpxTfd",
        "colab_type": "code",
        "colab": {
          "base_uri": "https://localhost:8080/",
          "height": 51
        },
        "outputId": "d634644f-87b2-473a-bf24-d7acea464277"
      },
      "source": [
        "model.evaluate(train_data)"
      ],
      "execution_count": null,
      "outputs": [
        {
          "output_type": "stream",
          "text": [
            "1407/1407 [==============================] - 614s 436ms/step - loss: 0.7264 - categorical_accuracy: 0.7442\n"
          ],
          "name": "stdout"
        },
        {
          "output_type": "execute_result",
          "data": {
            "text/plain": [
              "[0.7263973355293274, 0.7441555261611938]"
            ]
          },
          "metadata": {
            "tags": []
          },
          "execution_count": 9
        }
      ]
    },
    {
      "cell_type": "code",
      "metadata": {
        "id": "EaX4muTXyXtQ",
        "colab_type": "code",
        "colab": {
          "base_uri": "https://localhost:8080/",
          "height": 51
        },
        "outputId": "0d50794e-d256-48c6-fde9-cb2399e6bbf6"
      },
      "source": [
        "model.evaluate(test_data)"
      ],
      "execution_count": null,
      "outputs": [
        {
          "output_type": "stream",
          "text": [
            "313/313 [==============================] - 139s 445ms/step - loss: 0.9825 - categorical_accuracy: 0.6666\n"
          ],
          "name": "stdout"
        },
        {
          "output_type": "execute_result",
          "data": {
            "text/plain": [
              "[0.9824972748756409, 0.6665999889373779]"
            ]
          },
          "metadata": {
            "tags": []
          },
          "execution_count": 10
        }
      ]
    }
  ]
}